{
 "cells": [
  {
   "cell_type": "code",
   "execution_count": 1,
   "id": "9ca3923c",
   "metadata": {},
   "outputs": [],
   "source": [
    "import tweepy\n",
    "import json\n",
    "from datetime import datetime"
   ]
  },
  {
   "cell_type": "code",
   "execution_count": 2,
   "id": "e137c0a9",
   "metadata": {},
   "outputs": [],
   "source": [
    "API_Key = \"i3BgiDWeRDGgx1MieH5pfsQdI\"\n",
    "\n",
    "API_Secret = \"W3tQRuhqBhYCm2PSezofEb0N069DNOT2r36LZzdAOQW29FdWwy\""
   ]
  },
  {
   "cell_type": "code",
   "execution_count": 3,
   "id": "82d0a587",
   "metadata": {},
   "outputs": [],
   "source": [
    "auth = tweepy.OAuthHandler(API_Key, API_Secret)"
   ]
  },
  {
   "cell_type": "code",
   "execution_count": 4,
   "id": "0cc900c5",
   "metadata": {},
   "outputs": [],
   "source": [
    "try:\n",
    "    redirect_url = auth.get_authorization_url()\n",
    "except tweepy.TweepError:\n",
    "    print('Error! Failed to get request token.')"
   ]
  },
  {
   "cell_type": "code",
   "execution_count": 5,
   "id": "0a9acaa4",
   "metadata": {},
   "outputs": [
    {
     "name": "stdout",
     "output_type": "stream",
     "text": [
      "https://api.twitter.com/oauth/authorize?oauth_token=WEjwnwAAAAABS6ayAAABe7FW6Ks\n"
     ]
    }
   ],
   "source": [
    "print(redirect_url)"
   ]
  },
  {
   "cell_type": "code",
   "execution_count": 7,
   "id": "79e3367b",
   "metadata": {},
   "outputs": [],
   "source": [
    "pin = \"5289591\""
   ]
  },
  {
   "cell_type": "code",
   "execution_count": 8,
   "id": "fcbf5d3c",
   "metadata": {},
   "outputs": [],
   "source": [
    "try:\n",
    "    auth.get_access_token(pin)\n",
    "except tweepy.TweepError:\n",
    "    print('Error! Failed to get access token.')"
   ]
  },
  {
   "cell_type": "code",
   "execution_count": 9,
   "id": "59057558",
   "metadata": {
    "scrolled": true
   },
   "outputs": [
    {
     "name": "stdout",
     "output_type": "stream",
     "text": [
      "token: 616379578-w3ElYEoF40uO4GyW0KoMAnzM0SG9lhiWhVsY0aj3\n",
      "secret: nY86GsXMNmttcivMlYJ1iWnqFWhcBsWgLbFbdF5vln9Jz\n"
     ]
    }
   ],
   "source": [
    "print(\"token: \" + auth.access_token )\n",
    "print(\"secret: \" + auth.access_token_secret)"
   ]
  },
  {
   "cell_type": "code",
   "execution_count": 10,
   "id": "09980966",
   "metadata": {},
   "outputs": [],
   "source": [
    "import re"
   ]
  },
  {
   "cell_type": "code",
   "execution_count": 11,
   "id": "347d4b1f",
   "metadata": {},
   "outputs": [
    {
     "data": {
      "text/plain": [
       "'20210904_10_05_07'"
      ]
     },
     "execution_count": 11,
     "metadata": {},
     "output_type": "execute_result"
    }
   ],
   "source": [
    "pattern = \"RT @.*:\"\n",
    "prog = re.compile(pattern)"
   ]
  },
  {
   "cell_type": "code",
   "execution_count": 41,
   "id": "34e9c01d",
   "metadata": {},
   "outputs": [],
   "source": [
    "def getTweets(subject):\n",
    "    #results = api.search_30_day(\"BootCamp\",\"mn state fair\")\n",
    "    \n",
    "    global jsonData \n",
    "    jsonData = api.search(subject,count = 100,lang=\"en\")\n",
    "    dataset = []\n",
    "    for r in jsonData:\n",
    "        name  = r._json['user']['screen_name']\n",
    "        createDate = r._json['created_at']\n",
    "        retweet = r._json[\"retweeted\"]\n",
    "        if not retweet:\n",
    "            try:\n",
    "                tweet = r._json['extended_tweet']['full_text']\n",
    "            except:\n",
    "                tweet = r._json['text']\n",
    "        if prog.search(tweet) is not None:\n",
    "            continue\n",
    "        else:\n",
    "            print(tweet)\n",
    "            data = f\"{name}, {createDate}, {retweet}, {tweet}\"\n",
    "            dataset.append(data)\n",
    "    filename = f\"datasets/dataset {datetime.now().strftime('%Y%m%d%H_%M_%S')}.txt\"\n",
    "    textfile = open(filename, \"w\")\n",
    "    for element in dataset:\n",
    "        textfile.write(element + \"\\n\")\n",
    "    textfile.close()\n",
    "    return dataset\n"
   ]
  },
  {
   "cell_type": "code",
   "execution_count": null,
   "id": "ea88af91",
   "metadata": {},
   "outputs": [],
   "source": []
  },
  {
   "cell_type": "code",
   "execution_count": 14,
   "id": "90e4a521",
   "metadata": {},
   "outputs": [],
   "source": [
    "api = tweepy.API(auth)"
   ]
  },
  {
   "cell_type": "code",
   "execution_count": 42,
   "id": "f5a26c88",
   "metadata": {},
   "outputs": [
    {
     "name": "stdout",
     "output_type": "stream",
     "text": [
      "@NomthandazoPe11 #happy Sunday too beautiful 🖐🖐\n",
      "Save more… play more!  Our entire store is discounted until 9/6/21.  #love #instagood #photooftheday #beautiful… https://t.co/mm7Z4hM55s\n",
      "@AnviFightsSMA @Vikramtek @aajtak Please help us to save Anvi 🙏🏻\n",
      "\n",
      "#anvifightssma #wesupportanvi #anviwavhal… https://t.co/WZFP2vlV4R\n",
      "We could never have loved the earth so well if we had had no sisterhood in it.\n",
      "#PeterLamyaPhotography… https://t.co/0BSHWQmrqA\n",
      "if you have the ability to love . Love yourself first.\n",
      "#adityabruh #adityaforever #jusdaxbruh #cheekfiller #fillers… https://t.co/c4zY0ByqFf\n",
      "Experience the heist on @pawzpace .... Get up to 60% off on all the grooming services.\n",
      "\n",
      "For more updates, follow us… https://t.co/5Jq6OAvHLB\n",
      "Thanks to fantastic work by James @DJFpainting we now have a fabulous lounge, we’ve gone from cream to soft blue ~… https://t.co/izD268Jfm7\n",
      "~Wishing @Beyonce Knowles-Carter an amazing 40th! And a Big #Happy #Happy to both she and Ms. @Oprah !!! ❤️👏👏👏 https://t.co/YSdx3H9t6a\n",
      "What Makes Urine Smell Strong or Foul?\n",
      "https://t.co/8MjtzutkXA\n",
      "#tagfire #lifestyle #health #life #LOL #Yoga #food… https://t.co/25vmMNPztK\n",
      "The Opening of the Spiritual Heart.\n",
      "#instagood #love #instagram #like #photooftheday #follow #photography… https://t.co/lmAr28ZYoK\n",
      "📷 Ack to my #happyplace this morning! #happy #ocean #gardencity #myrtlebeach #myrtlebeachsc #southcarolina #cigar… https://t.co/LAa5ArKG5a\n",
      "Ack to my #happyplace  this morning!  \n",
      "#happy #ocean #gardencity #myrtlebeach #myrtlebeachsc #southcarolina #cigar… https://t.co/FRgbga4fdw\n",
      "Happiness is...swimming and brings back sticks 🐾🐾😁😘\n",
      "#cavpack #cavaliers #cavaliersarespecial #happy #dogsoftwitter https://t.co/ahxn6BoAxM\n",
      "The Opening of the Spiritual Heart.\n",
      "#instagood #love #instagram #like #photooftheday #follow #photography… https://t.co/qpIkjFH3m1\n",
      "Dressing up with @roseofsharon.singapore #singapore #fyp #dress #happy #rosambassador #myjoyfulmoments… https://t.co/gWvDIzqW5L\n",
      "@GovAbbott will no longer be #Governor nor #President and that makes me #Happy ! https://t.co/SyiZ5gheDQ\n",
      "I found a girl with a very #cute voice.\n",
      "The PV is also very #funny , \n",
      "so it makes me #happy .\n",
      "\n",
      "That’s “DANCE MONKEY… https://t.co/L5s5Un8Ld0\n",
      "#Happy #Teachers'#Day in advance! Let's pledge to propagate the philosophy of #Radhakrishnan !\n",
      "“At your next #networking opportunity you’re going to smile. You’re going to #smile at your friends, the other gues… https://t.co/DiIeymc37d\n",
      "Daily Affirmation\n",
      "\n",
      "Be motivated!\n",
      "Visit https://t.co/bmlHlMQlbo\n",
      "\n",
      "#ThoughtOfTheDay #motivation #inspiration… https://t.co/dOBojFiRof\n",
      "Check out this product 😀SF_F1 Shoe Drawstring Bags😀\n",
      "by PULL UP AND SHOP starting at $12.99.\n",
      "Order now:… https://t.co/Uln11fBhpH\n",
      "10 WAYS TO PROTECT YOUR KIDS FROM PREDATORS\n",
      "\n",
      "https://t.co/FtXS29EeuO\n",
      "\n",
      "#parenting #children #momlife #leadership… https://t.co/feuczikQZJ\n",
      "The long weekend is here!  What are your plans?\n",
      "\n",
      "#laborday #labordayweekend #happylaborday #monday #labor #work… https://t.co/MGDPy8pfcN\n",
      "#happy Hopscotch Chalk https://t.co/blCzDG2dUT https://t.co/d6T8ECzBMR\n",
      "The chi now on BET #happy\n",
      "💬Discover a wonderful #Travel \n",
      "\n",
      "#happy 😍  \n",
      "🐾#traveler\n",
      "📚#photobook\n",
      "❤️ #memories \n",
      " 🎉#makingmagic  \n",
      "🥾#travelbook   \n",
      "🌿… https://t.co/06X4thrXLG\n",
      "📷 #Strong, #happy #poledancers It’s #graduation! Which means… NEW 8-Week Series in both #Pole and #Aerial begins th… https://t.co/58tas2XPbn\n",
      "💬Discover a wonderful #Travel \n",
      "\n",
      "#happy 😍  \n",
      "🐾#traveler\n",
      "📚#photobook\n",
      "❤️ #memories \n",
      " 🎉#makingmagic  \n",
      "🥾#travelbook   \n",
      "🌿… https://t.co/nPWR2GacUA\n",
      "I have a spectacular view in front of me.\n",
      "#love #instagood #happy #buttocks #life #beautifulwife #japan #wife… https://t.co/f5QRngIxNA\n",
      "Don't miss my live this Tuesday at 3:00 PM ET! I'm going to continue my hunger series and this week we're talking a… https://t.co/6tOO8SIqnj\n",
      "This week’s online classes🤩\n",
      "\n",
      "Please check my website \n",
      "https://t.co/RfB9AF7flz for more info about me &amp; my classes 🤩… https://t.co/9dgGkVmJG1\n",
      "Well well well every #doge has his day! #ToTheMoon #DogecoinToTheMoon #DogecoinRise #happy anniversary to my wife… https://t.co/Vqfoan2LIx\n",
      "#Happy Vmin day\n",
      "little happy friend, he only likes me because i'll throw his skippyball. 🐕\n",
      "\n",
      "#dogsofinstagram #dog #dogslife… https://t.co/UUVYRAFzJB\n",
      "This week’s online classes🤩\n",
      "\n",
      "Please check my website \n",
      "https://t.co/quH7LhSv2y for more info about me &amp; my classes 🤩… https://t.co/Lxy09RuEcU\n",
      "For the #love of #OccupationalTherapy - #OT365 #FrederickCovington #TheTherapyInstitute #TheOTGeniusBox #instagood… https://t.co/p4IGiq70Ey\n",
      "guess what guys…i think it’s working #soak #happy #rejuvenated https://t.co/DDjCyBsp3R\n",
      "Good friends and family are the biggest blessings by the god.💯\n",
      ".\n",
      ".\n",
      ".\n",
      ".\n",
      "📞: 0116 429 1100\n",
      "📩: blaby@caremark.co.uk… https://t.co/t5LyGTUilL\n",
      "𝗜 𝗮𝗺 𝘁𝗿𝘆𝗶𝗻𝗴 𝘁𝗼 𝗯𝗲 #𝗵𝗮𝗽𝗽𝘆☺️\n",
      "\n",
      "#𝗯𝘂𝘁 𝗜 𝗰𝗮𝗻'𝘁🥺🥀\n",
      "Beyoncé 40TH.. #Beyonce #Happy 40th #HappyBirthdayBeyonce #Queen B https://t.co/A1NHnnbYGH\n",
      "She got them 🎀Winter Ready🎀 feet 🌬🐻💗✨ #happy #feet #fluffy #treat https://t.co/oKbcjdZgIw https://t.co/joMg1PBPeE\n",
      "If at least you’re happy,\n",
      "it’s a happy ending\n",
      "I’m not being sarcastic,\n",
      "I hope you know I mean it\n",
      "#HAPPY\n",
      "💥 13!! Happy Birthday to our teenager @aidenkilshaw 🎂 🎁 🎉 \n",
      ".\n",
      ".\n",
      ".\n",
      ".\n",
      ".\n",
      "#teenager #13birthday #instagood… https://t.co/Zh2P7dYnX5\n",
      "#Happy #Labor #Day\n",
      "Get a free 25W USB-C PD Wall #Charger\n",
      "with purchase of $80 or more.\n",
      "SHOP NOW… https://t.co/py1fuANA0M\n",
      "Big 30 miles around Kettering this morning. Not good cramping up at 25 miles!\n",
      "#mtb #mountainbiking #mountainbike… https://t.co/LC2PKmmCBx\n",
      "I sit pretty n the house #happy\n",
      "8 Health Risks Of Long Commute To Work https://t.co/98tBWOcpPW\n",
      "#tagfire #lifestyle #health #life #LOL #Yoga #food… https://t.co/kRy3vKxvCx\n",
      "FAITH tells me that no matter what’s ahead of me, the Most High God YAH is already there. Don’t worry! #Faith #Sabbath #Happy #Rest #Bible\n",
      "“Life shrinks or expands in proportion to one’s courage.” – Anais Nin #life #strings #expands #one #courage… https://t.co/BHSQea5H54\n",
      "Day 939\n",
      "\n",
      "One moment can define the love of a lifetime. \n",
      "__\n",
      "\n",
      "#life #live #love #loveyourself #iloveyou #lovepoem… https://t.co/nbHQFF8lM4\n",
      "We are #OPEN #Saturday and #Sunday September 4 &amp; 5 \n",
      "10 am to 3 pm and WE ARE OPEN #MONDAY #September 6 from 9 am to… https://t.co/OwtfzINeut\n",
      "26 Tips To Lose Weight In A Healthy Way\n",
      "https://t.co/I0hbPJSt06\n",
      "#tagfire #lifestyle #health #life #LOL #Yoga #food… https://t.co/lGZXyAxUpU\n"
     ]
    }
   ],
   "source": [
    "results = getTweets(\"#happy\")"
   ]
  },
  {
   "cell_type": "code",
   "execution_count": 43,
   "id": "0d35a3fa",
   "metadata": {},
   "outputs": [
    {
     "name": "stdout",
     "output_type": "stream",
     "text": [
      "52\n",
      "** HarunaMakoleA, Sat Sep 04 15:22:51 +0000 2021, False, @NomthandazoPe11 #happy Sunday too beautiful 🖐🖐\n",
      "\n",
      "** beyondsummitllc, Sat Sep 04 15:21:57 +0000 2021, False, Save more… play more!  Our entire store is discounted until 9/6/21.  #love #instagood #photooftheday #beautiful… https://t.co/mm7Z4hM55s\n",
      "\n",
      "** Rohitwavhal1, Sat Sep 04 15:21:40 +0000 2021, False, @AnviFightsSMA @Vikramtek @aajtak Please help us to save Anvi 🙏🏻\n",
      "\n",
      "#anvifightssma #wesupportanvi #anviwavhal… https://t.co/WZFP2vlV4R\n",
      "\n",
      "** PeterLamya, Sat Sep 04 15:21:20 +0000 2021, False, We could never have loved the earth so well if we had had no sisterhood in it.\n",
      "#PeterLamyaPhotography… https://t.co/0BSHWQmrqA\n",
      "\n",
      "** jusdax, Sat Sep 04 15:21:02 +0000 2021, False, if you have the ability to love . Love yourself first.\n",
      "#adityabruh #adityaforever #jusdaxbruh #cheekfiller #fillers… https://t.co/c4zY0ByqFf\n",
      "\n",
      "** pawzpace, Sat Sep 04 15:16:36 +0000 2021, False, Experience the heist on @pawzpace .... Get up to 60% off on all the grooming services.\n",
      "\n",
      "For more updates, follow us… https://t.co/5Jq6OAvHLB\n",
      "\n",
      "** jayjonny01, Sat Sep 04 15:11:25 +0000 2021, False, Thanks to fantastic work by James @DJFpainting we now have a fabulous lounge, we’ve gone from cream to soft blue ~… https://t.co/izD268Jfm7\n",
      "\n",
      "** Tanya_R_Steele, Sat Sep 04 15:10:41 +0000 2021, False, ~Wishing @Beyonce Knowles-Carter an amazing 40th! And a Big #Happy #Happy to both she and Ms. @Oprah !!! ❤️👏👏👏 https://t.co/YSdx3H9t6a\n",
      "\n",
      "** StayHealthy07, Sat Sep 04 15:08:34 +0000 2021, False, What Makes Urine Smell Strong or Foul?\n",
      "https://t.co/8MjtzutkXA\n",
      "#tagfire #lifestyle #health #life #LOL #Yoga #food… https://t.co/25vmMNPztK\n",
      "\n",
      "** aziz_basha01, Sat Sep 04 15:07:59 +0000 2021, False, The Opening of the Spiritual Heart.\n",
      "#instagood #love #instagram #like #photooftheday #follow #photography… https://t.co/lmAr28ZYoK\n",
      "\n",
      "** dtpjr64, Sat Sep 04 15:07:56 +0000 2021, False, 📷 Ack to my #happyplace this morning! #happy #ocean #gardencity #myrtlebeach #myrtlebeachsc #southcarolina #cigar… https://t.co/LAa5ArKG5a\n",
      "\n",
      "** dtpjr64, Sat Sep 04 15:07:54 +0000 2021, False, Ack to my #happyplace  this morning!  \n",
      "#happy #ocean #gardencity #myrtlebeach #myrtlebeachsc #southcarolina #cigar… https://t.co/FRgbga4fdw\n",
      "\n",
      "** runawaygirl248, Sat Sep 04 15:07:44 +0000 2021, False, Happiness is...swimming and brings back sticks 🐾🐾😁😘\n",
      "#cavpack #cavaliers #cavaliersarespecial #happy #dogsoftwitter https://t.co/ahxn6BoAxM\n",
      "\n",
      "** AbodeTelugu, Sat Sep 04 15:07:29 +0000 2021, False, The Opening of the Spiritual Heart.\n",
      "#instagood #love #instagram #like #photooftheday #follow #photography… https://t.co/qpIkjFH3m1\n",
      "\n",
      "** ChanJule, Sat Sep 04 15:05:18 +0000 2021, False, Dressing up with @roseofsharon.singapore #singapore #fyp #dress #happy #rosambassador #myjoyfulmoments… https://t.co/gWvDIzqW5L\n",
      "\n",
      "** ktlh2, Sat Sep 04 15:04:06 +0000 2021, False, @GovAbbott will no longer be #Governor nor #President and that makes me #Happy ! https://t.co/SyiZ5gheDQ\n",
      "\n",
      "** iori_sns, Sat Sep 04 15:03:41 +0000 2021, False, I found a girl with a very #cute voice.\n",
      "The PV is also very #funny , \n",
      "so it makes me #happy .\n",
      "\n",
      "That’s “DANCE MONKEY… https://t.co/L5s5Un8Ld0\n",
      "\n",
      "** Badal28289982, Sat Sep 04 15:02:48 +0000 2021, False, #Happy #Teachers'#Day in advance! Let's pledge to propagate the philosophy of #Radhakrishnan !\n",
      "\n",
      "** JackieYunTweets, Sat Sep 04 15:02:34 +0000 2021, False, “At your next #networking opportunity you’re going to smile. You’re going to #smile at your friends, the other gues… https://t.co/DiIeymc37d\n",
      "\n",
      "** bmp_network, Sat Sep 04 15:01:06 +0000 2021, False, Daily Affirmation\n",
      "\n",
      "Be motivated!\n",
      "Visit https://t.co/bmlHlMQlbo\n",
      "\n",
      "#ThoughtOfTheDay #motivation #inspiration… https://t.co/dOBojFiRof\n",
      "\n",
      "** BetterknowYou, Sat Sep 04 15:00:34 +0000 2021, False, Check out this product 😀SF_F1 Shoe Drawstring Bags😀\n",
      "by PULL UP AND SHOP starting at $12.99.\n",
      "Order now:… https://t.co/Uln11fBhpH\n",
      "\n",
      "** BeautySkinYourN, Sat Sep 04 15:00:00 +0000 2021, False, 10 WAYS TO PROTECT YOUR KIDS FROM PREDATORS\n",
      "\n",
      "https://t.co/FtXS29EeuO\n",
      "\n",
      "#parenting #children #momlife #leadership… https://t.co/feuczikQZJ\n",
      "\n",
      "** AZSoldiersBF, Sat Sep 04 15:00:00 +0000 2021, False, The long weekend is here!  What are your plans?\n",
      "\n",
      "#laborday #labordayweekend #happylaborday #monday #labor #work… https://t.co/MGDPy8pfcN\n",
      "\n",
      "** happytoddlernow, Sat Sep 04 14:59:48 +0000 2021, False, #happy Hopscotch Chalk https://t.co/blCzDG2dUT https://t.co/d6T8ECzBMR\n",
      "\n",
      "** redbone_esha2x, Sat Sep 04 14:59:20 +0000 2021, False, The chi now on BET #happy\n",
      "\n",
      "** BrielleMade, Sat Sep 04 14:57:37 +0000 2021, False, 💬Discover a wonderful #Travel \n",
      "\n",
      "#happy 😍  \n",
      "🐾#traveler\n",
      "📚#photobook\n",
      "❤️ #memories \n",
      " 🎉#makingmagic  \n",
      "🥾#travelbook   \n",
      "🌿… https://t.co/06X4thrXLG\n",
      "\n",
      "** FlightPalatine, Sat Sep 04 14:57:33 +0000 2021, False, 📷 #Strong, #happy #poledancers It’s #graduation! Which means… NEW 8-Week Series in both #Pole and #Aerial begins th… https://t.co/58tas2XPbn\n",
      "\n",
      "** BrielleMade, Sat Sep 04 14:57:16 +0000 2021, False, 💬Discover a wonderful #Travel \n",
      "\n",
      "#happy 😍  \n",
      "🐾#traveler\n",
      "📚#photobook\n",
      "❤️ #memories \n",
      " 🎉#makingmagic  \n",
      "🥾#travelbook   \n",
      "🌿… https://t.co/nPWR2GacUA\n",
      "\n",
      "** wife_ackee0774, Sat Sep 04 14:57:00 +0000 2021, False, I have a spectacular view in front of me.\n",
      "#love #instagood #happy #buttocks #life #beautifulwife #japan #wife… https://t.co/f5QRngIxNA\n",
      "\n",
      "** drsilkymd, Sat Sep 04 14:55:01 +0000 2021, False, Don't miss my live this Tuesday at 3:00 PM ET! I'm going to continue my hunger series and this week we're talking a… https://t.co/6tOO8SIqnj\n",
      "\n",
      "** BennettDebi, Sat Sep 04 14:54:26 +0000 2021, False, This week’s online classes🤩\n",
      "\n",
      "Please check my website \n",
      "https://t.co/RfB9AF7flz for more info about me &amp; my classes 🤩… https://t.co/9dgGkVmJG1\n",
      "\n",
      "** Jeremy95182671, Sat Sep 04 14:53:38 +0000 2021, False, Well well well every #doge has his day! #ToTheMoon #DogecoinToTheMoon #DogecoinRise #happy anniversary to my wife… https://t.co/Vqfoan2LIx\n",
      "\n",
      "** zeo55403890, Sat Sep 04 14:53:37 +0000 2021, False, #Happy Vmin day\n",
      "\n",
      "** pieterstaaks, Sat Sep 04 14:52:10 +0000 2021, False, little happy friend, he only likes me because i'll throw his skippyball. 🐕\n",
      "\n",
      "#dogsofinstagram #dog #dogslife… https://t.co/UUVYRAFzJB\n",
      "\n",
      "** djpilates1, Sat Sep 04 14:51:03 +0000 2021, False, This week’s online classes🤩\n",
      "\n",
      "Please check my website \n",
      "https://t.co/quH7LhSv2y for more info about me &amp; my classes 🤩… https://t.co/Lxy09RuEcU\n",
      "\n",
      "** AskDrCovington, Sat Sep 04 14:50:03 +0000 2021, False, For the #love of #OccupationalTherapy - #OT365 #FrederickCovington #TheTherapyInstitute #TheOTGeniusBox #instagood… https://t.co/p4IGiq70Ey\n",
      "\n",
      "** tigerfunk69, Sat Sep 04 14:48:30 +0000 2021, False, guess what guys…i think it’s working #soak #happy #rejuvenated https://t.co/DDjCyBsp3R\n",
      "\n",
      "** Caremark_HBB, Sat Sep 04 14:47:32 +0000 2021, False, Good friends and family are the biggest blessings by the god.💯\n",
      ".\n",
      ".\n",
      ".\n",
      ".\n",
      "📞: 0116 429 1100\n",
      "📩: blaby@caremark.co.uk… https://t.co/t5LyGTUilL\n",
      "\n",
      "** Pahadi__Queen, Sat Sep 04 14:47:13 +0000 2021, False, 𝗜 𝗮𝗺 𝘁𝗿𝘆𝗶𝗻𝗴 𝘁𝗼 𝗯𝗲 #𝗵𝗮𝗽𝗽𝘆☺️\n",
      "\n",
      "#𝗯𝘂𝘁 𝗜 𝗰𝗮𝗻'𝘁🥺🥀\n",
      "\n",
      "** billiefmradio, Sat Sep 04 14:46:59 +0000 2021, False, Beyoncé 40TH.. #Beyonce #Happy 40th #HappyBirthdayBeyonce #Queen B https://t.co/A1NHnnbYGH\n",
      "\n",
      "** knobutter, Sat Sep 04 14:45:48 +0000 2021, False, She got them 🎀Winter Ready🎀 feet 🌬🐻💗✨ #happy #feet #fluffy #treat https://t.co/oKbcjdZgIw https://t.co/joMg1PBPeE\n",
      "\n",
      "** HanByeol_91, Sat Sep 04 14:43:29 +0000 2021, False, If at least you’re happy,\n",
      "it’s a happy ending\n",
      "I’m not being sarcastic,\n",
      "I hope you know I mean it\n",
      "#HAPPY\n",
      "\n",
      "** MackFirby, Sat Sep 04 14:43:18 +0000 2021, False, 💥 13!! Happy Birthday to our teenager @aidenkilshaw 🎂 🎁 🎉 \n",
      ".\n",
      ".\n",
      ".\n",
      ".\n",
      ".\n",
      "#teenager #13birthday #instagood… https://t.co/Zh2P7dYnX5\n",
      "\n",
      "** Flowerdoo1, Sat Sep 04 14:42:33 +0000 2021, False, #Happy #Labor #Day\n",
      "Get a free 25W USB-C PD Wall #Charger\n",
      "with purchase of $80 or more.\n",
      "SHOP NOW… https://t.co/py1fuANA0M\n",
      "\n",
      "** beardedbiggs, Sat Sep 04 14:40:45 +0000 2021, False, Big 30 miles around Kettering this morning. Not good cramping up at 25 miles!\n",
      "#mtb #mountainbiking #mountainbike… https://t.co/LC2PKmmCBx\n",
      "\n",
      "** yelliabella, Sat Sep 04 14:40:35 +0000 2021, False, I sit pretty n the house #happy\n",
      "\n",
      "** HealthyandFitn8, Sat Sep 04 14:40:02 +0000 2021, False, 8 Health Risks Of Long Commute To Work https://t.co/98tBWOcpPW\n",
      "#tagfire #lifestyle #health #life #LOL #Yoga #food… https://t.co/kRy3vKxvCx\n",
      "\n",
      "** Vindorephotos, Sat Sep 04 14:39:25 +0000 2021, False, FAITH tells me that no matter what’s ahead of me, the Most High God YAH is already there. Don’t worry! #Faith #Sabbath #Happy #Rest #Bible\n",
      "\n",
      "** LatinoLdnOnt, Sat Sep 04 14:39:22 +0000 2021, False, “Life shrinks or expands in proportion to one’s courage.” – Anais Nin #life #strings #expands #one #courage… https://t.co/BHSQea5H54\n",
      "\n",
      "** kurtwvoigt, Sat Sep 04 14:37:00 +0000 2021, False, Day 939\n",
      "\n",
      "One moment can define the love of a lifetime. \n",
      "__\n",
      "\n",
      "#life #live #love #loveyourself #iloveyou #lovepoem… https://t.co/nbHQFF8lM4\n",
      "\n",
      "** wellerpharmacy, Sat Sep 04 14:36:22 +0000 2021, False, We are #OPEN #Saturday and #Sunday September 4 &amp; 5 \n",
      "10 am to 3 pm and WE ARE OPEN #MONDAY #September 6 from 9 am to… https://t.co/OwtfzINeut\n",
      "\n",
      "** StayHealthy07, Sat Sep 04 14:34:21 +0000 2021, False, 26 Tips To Lose Weight In A Healthy Way\n",
      "https://t.co/I0hbPJSt06\n",
      "#tagfire #lifestyle #health #life #LOL #Yoga #food… https://t.co/lGZXyAxUpU\n",
      "\n"
     ]
    }
   ],
   "source": [
    "print(len(results))\n",
    "for r in results:\n",
    "    print(f\"** {r}\\n\")"
   ]
  },
  {
   "cell_type": "code",
   "execution_count": 44,
   "id": "c22bc5c1",
   "metadata": {},
   "outputs": [],
   "source": [
    "test = results[4]"
   ]
  },
  {
   "cell_type": "code",
   "execution_count": 45,
   "id": "16f78a19",
   "metadata": {},
   "outputs": [
    {
     "data": {
      "text/plain": [
       "'jusdax, Sat Sep 04 15:21:02 +0000 2021, False, if you have the ability to love . Love yourself first.\\n#adityabruh #adityaforever #jusdaxbruh #cheekfiller #fillers… https://t.co/c4zY0ByqFf'"
      ]
     },
     "execution_count": 45,
     "metadata": {},
     "output_type": "execute_result"
    }
   ],
   "source": [
    "test"
   ]
  },
  {
   "cell_type": "code",
   "execution_count": 46,
   "id": "81a0ae20",
   "metadata": {},
   "outputs": [],
   "source": [
    "test = test.replace(\"\\n\", \"\")"
   ]
  },
  {
   "cell_type": "code",
   "execution_count": 47,
   "id": "017a7fa3",
   "metadata": {},
   "outputs": [
    {
     "data": {
      "text/plain": [
       "'jusdax, Sat Sep 04 15:21:02 +0000 2021, False, if you have the ability to love . Love yourself first.#adityabruh #adityaforever #jusdaxbruh #cheekfiller #fillers… https://t.co/c4zY0ByqFf'"
      ]
     },
     "execution_count": 47,
     "metadata": {},
     "output_type": "execute_result"
    }
   ],
   "source": [
    "test"
   ]
  },
  {
   "cell_type": "code",
   "execution_count": 48,
   "id": "3cf0749f",
   "metadata": {},
   "outputs": [],
   "source": [
    "from textblob import TextBlob"
   ]
  },
  {
   "cell_type": "code",
   "execution_count": 55,
   "id": "45bed189",
   "metadata": {},
   "outputs": [
    {
     "name": "stdout",
     "output_type": "stream",
     "text": [
      "Sentiment(polarity=0.6, subjectivity=1.0)\n"
     ]
    }
   ],
   "source": [
    "analysis = TextBlob(\"your mother is nice\").sentiment\n",
    "print(analysis)"
   ]
  },
  {
   "cell_type": "code",
   "execution_count": 50,
   "id": "1ba951c6",
   "metadata": {},
   "outputs": [
    {
     "data": {
      "text/plain": [
       "'jusdax, Sat Sep 04 15:21:02 +0000 2021, False, if you have the ability to love . Love yourself first.#adityabruh #adityaforever #jusdaxbruh #cheekfiller #fillers… https://t.co/c4zY0ByqFf'"
      ]
     },
     "execution_count": 50,
     "metadata": {},
     "output_type": "execute_result"
    }
   ],
   "source": [
    "test"
   ]
  },
  {
   "cell_type": "code",
   "execution_count": null,
   "id": "2ec247ab",
   "metadata": {},
   "outputs": [],
   "source": []
  }
 ],
 "metadata": {
  "kernelspec": {
   "display_name": "Python Data",
   "language": "python",
   "name": "pythondata"
  },
  "language_info": {
   "codemirror_mode": {
    "name": "ipython",
    "version": 3
   },
   "file_extension": ".py",
   "mimetype": "text/x-python",
   "name": "python",
   "nbconvert_exporter": "python",
   "pygments_lexer": "ipython3",
   "version": "3.8.6"
  }
 },
 "nbformat": 4,
 "nbformat_minor": 5
}
