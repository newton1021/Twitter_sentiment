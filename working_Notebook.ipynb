{
 "cells": [
  {
   "cell_type": "code",
   "execution_count": 1,
   "id": "74d8b251",
   "metadata": {},
   "outputs": [],
   "source": [
    "import tweepy\n",
    "import json"
   ]
  },
  {
   "cell_type": "code",
   "execution_count": 2,
   "id": "353d866e",
   "metadata": {},
   "outputs": [],
   "source": [
    "API_Key = \"i3BgiDWeRDGgx1MieH5pfsQdI\"\n",
    "\n",
    "API_Secret = \"W3tQRuhqBhYCm2PSezofEb0N069DNOT2r36LZzdAOQW29FdWwy\""
   ]
  },
  {
   "cell_type": "code",
   "execution_count": 14,
   "id": "e26b59e7",
   "metadata": {},
   "outputs": [],
   "source": [
    "auth = tweepy.OAuthHandler(API_Key, API_Secret)"
   ]
  },
  {
   "cell_type": "code",
   "execution_count": 15,
   "id": "3cfeaecf",
   "metadata": {},
   "outputs": [],
   "source": [
    "try:\n",
    "    redirect_url = auth.get_authorization_url()\n",
    "except tweepy.TweepError:\n",
    "    print('Error! Failed to get request token.')"
   ]
  },
  {
   "cell_type": "code",
   "execution_count": 16,
   "id": "807a3d57",
   "metadata": {},
   "outputs": [
    {
     "name": "stdout",
     "output_type": "stream",
     "text": [
      "https://api.twitter.com/oauth/authorize?oauth_token=2iG5HQAAAAABS6ayAAABe4TDN4k\n"
     ]
    }
   ],
   "source": [
    "print(redirect_url)"
   ]
  },
  {
   "cell_type": "code",
   "execution_count": 17,
   "id": "dd9af7e4",
   "metadata": {},
   "outputs": [],
   "source": [
    "pin = \"1277511\""
   ]
  },
  {
   "cell_type": "code",
   "execution_count": 18,
   "id": "ba620154",
   "metadata": {},
   "outputs": [],
   "source": [
    "try:\n",
    "    auth.get_access_token(pin)\n",
    "except tweepy.TweepError:\n",
    "    print('Error! Failed to get access token.')"
   ]
  },
  {
   "cell_type": "code",
   "execution_count": 19,
   "id": "624cb83d",
   "metadata": {
    "scrolled": true
   },
   "outputs": [
    {
     "name": "stdout",
     "output_type": "stream",
     "text": [
      "token: 616379578-w3ElYEoF40uO4GyW0KoMAnzM0SG9lhiWhVsY0aj3\n",
      "secret: nY86GsXMNmttcivMlYJ1iWnqFWhcBsWgLbFbdF5vln9Jz\n"
     ]
    }
   ],
   "source": [
    "print(\"token: \" + auth.access_token )\n",
    "print(\"secret: \" + auth.access_token_secret)"
   ]
  },
  {
   "cell_type": "code",
   "execution_count": null,
   "id": "53bf228a",
   "metadata": {},
   "outputs": [],
   "source": [
    "#save tokens\n"
   ]
  },
  {
   "cell_type": "code",
   "execution_count": null,
   "id": "1f51ff6b",
   "metadata": {},
   "outputs": [],
   "source": []
  },
  {
   "cell_type": "code",
   "execution_count": null,
   "id": "dd7bbc44",
   "metadata": {},
   "outputs": [],
   "source": []
  },
  {
   "cell_type": "code",
   "execution_count": null,
   "id": "c0398e35",
   "metadata": {},
   "outputs": [],
   "source": []
  },
  {
   "cell_type": "code",
   "execution_count": 20,
   "id": "e31b1a77",
   "metadata": {},
   "outputs": [],
   "source": [
    "api = tweepy.API(auth)"
   ]
  },
  {
   "cell_type": "code",
   "execution_count": 47,
   "id": "482e3fa5",
   "metadata": {},
   "outputs": [],
   "source": [
    "#results = api.search_30_day(\"BootCamp\",\"mn state fair\")\n",
    "results = api.search(\"mn state fair\",count = 100)"
   ]
  },
  {
   "cell_type": "code",
   "execution_count": 48,
   "id": "e758b9ec",
   "metadata": {},
   "outputs": [
    {
     "name": "stdout",
     "output_type": "stream",
     "text": [
      " ============ RT @4castpublicart: The @mnstatefair #JoyfulWorldMuralPark is open! 12 artists are excited to #paint live at this event. Rotating select #a…\n",
      " ============ RT @ReaganLincoln08: Will you be going to the MN state fair?\n",
      " ============ Will you be going to the MN state fair?\n",
      " ============ mn state fair is happening and i’m about to experience a hurricane… who’s testing me\n",
      " ============ RT @DoctorLix: COVID cases went up nearly 600% in SD after Sturgis. It’s magical thinking to believe this won’t happen in MN after the @mns…\n",
      " ============ @kel_te the ugly ass mn state fair and the hideous people in attendance !\n",
      " ============ Some photos from opening day at the MN State Fair https://t.co/hBNPBm7dTJ\n",
      " ============ RT @cities97radio: Join us at the MN State Fair 8/26 - Labor Day! We'll be broadcasting LIVE daily w/ all new merch &amp; daily prizes! Present…\n",
      " ============ MN Weather: State Fair Grandstand Evacuated Due To Lightning – WCCO https://t.co/EOp0788lCU\n",
      " ============ mn state fair: rain addition #suncountryfaregiveaway https://t.co/2zx2sOCUre\n",
      " ============ Even God is pissed about no mask mandate.  https://t.co/WqXiTlnvVg\n",
      " ============ MN Weather: State Fair Grandstand Evacuated Due To Lightning – WCCO https://t.co/CS4E0ljPLG\n",
      " ============ @kare11 2nd year? How were they able to accomplish that during Covid last year? @GovTimWalz? Also, what’s the logic… https://t.co/r78plKtW7o\n",
      " ============ MN State Fair Crop Art thread: https://t.co/5uD3SYLOrB\n",
      " ============ RT @WCCO: BREAKING: Miranda Lambert's concert at the Minnesota State Fair Grandstand has been evacuated due to lightning in the area. All r…\n",
      " ============ RT @WCCO: BREAKING: Miranda Lambert's concert at the Minnesota State Fair Grandstand has been evacuated due to lightning in the area. All r…\n",
      " ============ RT @4castpublicart: The @mnstatefair #JoyfulWorldMuralPark is open! 12 artists are excited to #paint live at this event. Rotating select #a…\n",
      " ============ RT @DoctorLix: COVID cases went up nearly 600% in SD after Sturgis. It’s magical thinking to believe this won’t happen in MN after the @mns…\n",
      " ============ RT @DrFishSG: The fish cam at the MN State Fair is live.\n",
      "\n",
      "Lots of @SolomonRDavid favorites on display.\n",
      "\n",
      "https://t.co/pxj1PQhpMa\n",
      " ============ UPDATE: A lightning flareup tonight led the Minnesota State Fair to shut down the the Skyride, SkyGlider and Space… https://t.co/bc2eTDuYYj\n",
      " ============ RT @WCCO: BREAKING: Miranda Lambert's concert at the Minnesota State Fair Grandstand has been evacuated due to lightning in the area. All r…\n",
      " ============ @StarTribune UPDATE: A lightning flareup tonight led the Minnesota State Fair to shut down the the Skyride, SkyGlid… https://t.co/KbrdVw15Op\n",
      " ============ RT @WCCO: BREAKING: Miranda Lambert's concert at the Minnesota State Fair Grandstand has been evacuated due to lightning in the area. All r…\n",
      " ============ MN Weather: State Fair Grandstand Evacuated Due To Lightning https://t.co/53iMENXZ8s\n",
      " ============ RT @WCCO: BREAKING: Miranda Lambert's concert at the Minnesota State Fair Grandstand has been evacuated due to lightning in the area. All r…\n",
      " ============ RT @WCCO: BREAKING: Miranda Lambert's concert at the Minnesota State Fair Grandstand has been evacuated due to lightning in the area. All r…\n",
      " ============ RT @kim_jkdkhanson: @MeidasTouch Great -  a lot of them will be coming back to MN. So, with that and the MN State Fair opening this week w/…\n",
      " ============ BREAKING: Miranda Lambert's concert at the Minnesota State Fair Grandstand has been evacuated due to lightning in t… https://t.co/tv6XTt4SAJ\n",
      " ============ RT @DoctorLix: COVID cases went up nearly 600% in SD after Sturgis. It’s magical thinking to believe this won’t happen in MN after the @mns…\n",
      " ============ And after the MN State Fair, there will be none I predict. 🙄 https://t.co/fLH1vdDrCi\n",
      " ============ RT @DoctorLix: COVID cases went up nearly 600% in SD after Sturgis. It’s magical thinking to believe this won’t happen in MN after the @mns…\n",
      " ============ In town for the MN State Fair this Sunday? Come check out the @10K_Takes1 Crew at the @KFAN1003 Booth from Noon-1pm https://t.co/UjUYn8lnm6\n",
      " ============ @BraddrofliT The week before my 2nd year of college started. Likely at the MN State Fair.\n",
      " ============ I'm not disappointed. \n",
      "Rain puts a damper on Minnesota State Fair https://t.co/01kSvAekGg\n",
      " ============ RT @StarTribune: A judge has rejected a request by a gun owners group for a temporary injunction to require the Minnesota State Fair to all…\n",
      " ============ SESSION DAILY: Talk with legislators, voice your opinion at Minnesota State Fair https://t.co/U2NjFB17g3\n",
      "\n",
      "#mnleg… https://t.co/ytfVFkuVVQ\n",
      " ============ Im pretty sad that I have no plans to go to the MN state fair this year. I really really want to go bc I keep heari… https://t.co/4YNL1QsM9j\n",
      " ============ RT @ian_leonard: Heads Up...another round of rumbling rainers will track east across The greater Metro over the next couple of hours. Thund…\n",
      " ============ RT @LacknerSteve: We are back MN! Come see us at The Home Depot center at the MN State Fair! @john_haussner @jennamontbriand @belford_melis…\n",
      " ============ Watching the coverage of the MN State Fair, I want to go. But I take enough of a risk dealing with 🤬 FL with work t… https://t.co/1V3NXk6c6t\n",
      " ============ RT @ian_leonard: Heads Up...another round of rumbling rainers will track east across The greater Metro over the next couple of hours. Thund…\n",
      " ============ RT @DrFishSG: The fish cam at the MN State Fair is live.\n",
      "\n",
      "Lots of @SolomonRDavid favorites on display.\n",
      "\n",
      "https://t.co/pxj1PQhpMa\n",
      " ============ RT @ian_leonard: Heads Up...another round of rumbling rainers will track east across The greater Metro over the next couple of hours. Thund…\n",
      " ============ RT @mngop: Great start to the 2021 Minnesota State Fair!\n",
      "\n",
      "Stop by today to meet your local candidates, shop this years collection of @mngop…\n",
      " ============ Never change MN State Fair... never change. https://t.co/QfuaYQqrOI\n",
      " ============ Heads Up...another round of rumbling rainers will track east across The greater Metro over the next couple of hours… https://t.co/E4zlasp0ev\n",
      " ============ @Federalists_MN @mnstatefair Violating the 2nd amendment rights? Is this one of those “tell me you don’t understand… https://t.co/PUkol22MLr\n",
      " ============ Ex: I've been looking forward to selling tix at the MN State Fair for MONTHS. I took the gig cuz I thought it'd be… https://t.co/SuE62o9dVl\n",
      " ============ RT @DoctorLix: COVID cases went up nearly 600% in SD after Sturgis. It’s magical thinking to believe this won’t happen in MN after the @mns…\n",
      " ============ First-year crop art submission for the MN State Fair 🌭 https://t.co/jDR916r8xh\n",
      " ============ God Wink. \n",
      "\n",
      "Dude walks up to me at Ogara’s and says, are you the guy who walks up and down Snelling?\n",
      "\n",
      "Yep, I say.… https://t.co/7TVR8WlrRJ\n",
      " ============ RT @10K_Takes1: 🚨Join us LIVE at the MN State Fair🚨\n",
      "\n",
      "This Sunday, Aug 29 from 12-1 PM we will be joining our good friend @jgkfan from the K…\n",
      " ============ RT @DoctorLix: COVID cases went up nearly 600% in SD after Sturgis. It’s magical thinking to believe this won’t happen in MN after the @mns…\n",
      " ============ cityofsaintpaul: It's opening day of the @mnstatefair! The State of Minnesota is offering $100 Visa gift cards on s… https://t.co/4eXdIzpQW3\n",
      " ============ A reminder that I met my soulmate at the MN State Fair in 2019: Dessa’s Night Drive ice cream from Izzy’s.\n",
      " ============ RT @DoctorLix: COVID cases went up nearly 600% in SD after Sturgis. It’s magical thinking to believe this won’t happen in MN after the @mns…\n",
      " ============ RT @DoctorLix: COVID cases went up nearly 600% in SD after Sturgis. It’s magical thinking to believe this won’t happen in MN after the @mns…\n",
      " ============ @NateSilver538 Midwest just had the sturgis motorcycle rally and now the MN state fair — neither have any requireme… https://t.co/7rzRLoQdvy\n",
      " ============ @NateSilver538 MN state fair starts today for two weeks.\n",
      " ============ RT @10K_Takes1: 🚨Join us LIVE at the MN State Fair🚨\n",
      "\n",
      "This Sunday, Aug 29 from 12-1 PM we will be joining our good friend @jgkfan from the K…\n",
      " ============ @peterframpton Look at our MN Governor @GovTimWalz  and US Senator @SenTinaSmith setting the example at the MN Stat… https://t.co/aWoarpk4se\n",
      " ============ I just want to note that my house is close enough to the MN State Fair that normally our street is packed with cars… https://t.co/VISGcd2Uo2\n",
      " ============ Headed to the MN State Fair?  Find SPECIAL PIANO SAVINGS at Schmitt Music Brooklyn Center and Edina! 🎹 \n",
      "We won't be… https://t.co/MeddDTZ06I\n",
      " ============ Watching @Shenandoahband at the MN state fair.  Loved them years ago and still loving them now ❤️ #untilnexttime #awesomeasever\n",
      " ============ With the MN State Fair starting today and school/college resuming soon, it seems like a good time to remind folks t… https://t.co/1vCVwgzWxa\n",
      " ============ @adiw1202 I have only a few memories of the MN state fair and they are alllllll deep fried\n",
      " ============ RT @WaconiaBrewing: WBC Golden Cookie, a 2021 State Fair exclusive at Coasters! A Golden ale base w/ a MN State Fair twist. Cookies &amp; Cream…\n",
      " ============ RT @cityofsaintpaul: It's opening day of the @mnstatefair! The State of Minnesota is offering $100 Visa gift cards on site to the first 3,6…\n",
      " ============ It's opening day of the @mnstatefair! The State of Minnesota is offering $100 Visa gift cards on site to the first… https://t.co/PEDr4uaJRv\n",
      " ============ 🚨Join us LIVE at the MN State Fair🚨\n",
      "\n",
      "This Sunday, Aug 29 from 12-1 PM we will be joining our good friend @jgkfan fr… https://t.co/Ln8xaQPfPt\n",
      " ============ RT @DoctorLix: COVID cases went up nearly 600% in SD after Sturgis. It’s magical thinking to believe this won’t happen in MN after the @mns…\n",
      " ============ WBC Golden Cookie, a 2021 State Fair exclusive at Coasters! A Golden ale base w/ a MN State Fair twist. Cookies &amp; C… https://t.co/PgT4S4rLdR\n",
      " ============ With all the groups who have decided not to attend the MN State Fair, I almost want to go just as a slap in their f… https://t.co/fsU0j9mGDz\n",
      " ============ @commodore_slick If most people believe that guns should not be allowed at the @mnstatefair then the legislature sh… https://t.co/qsiyaoEIH0\n",
      " ============ A severe thunderstorm briefly shut down many activities on the first day of the Great Minnesota Get-Together, inclu… https://t.co/WLOmwBPLRB\n",
      " ============ RT @MNagriculture: Commissioner @ThommyPetersen chats with @JoeKASMRadio live from the @mnstatefair about the role and foundation of agricu…\n",
      " ============ RT @nbencesolutions: Hadn’t planned on going to the MN State Fair this year, but now I want to go in my MDA t-shirt, take a photo under the…\n",
      " ============ RT @DoctorLix: COVID cases went up nearly 600% in SD after Sturgis. It’s magical thinking to believe this won’t happen in MN after the @mns…\n",
      " ============ CBS Minnesota: MN Weather: State Fair Attendees Urged To Seek Shelter, Rides Shut Down As Storms Gather.… https://t.co/2Q9dqenmQ3\n",
      " ============ RT @DoctorLix: COVID cases went up nearly 600% in SD after Sturgis. It’s magical thinking to believe this won’t happen in MN after the @mns…\n",
      " ============ RT @DoctorLix: COVID cases went up nearly 600% in SD after Sturgis. It’s magical thinking to believe this won’t happen in MN after the @mns…\n",
      " ============ RT @DoctorLix: COVID cases went up nearly 600% in SD after Sturgis. It’s magical thinking to believe this won’t happen in MN after the @mns…\n",
      " ============ i just know if i stay in this state i'll end up doing some weird shit like crop seed art at the mn state fair\n",
      " ============ I need a glucose gui to take me to the MN state fair \n",
      "I look cute n eat, you pay 😇\n",
      " ============ Well...I went to the MN State Fair to see my senior march in the parade for the last time. Mother Nature had differ… https://t.co/H0hr1FGE3s\n",
      " ============ the only super spreading at the mn state fair is your mom\n",
      " ============ Join us at the MN State Fair 8/26 - Labor Day! We'll be broadcasting LIVE daily w/ all new merch &amp; daily prizes! Pr… https://t.co/gOYjUVvtyt\n",
      " ============ RT @fultonbeer: The MN State Fair kicks off today, and you can find a variety of non-deep fried Fulton libations all around the fairgrounds…\n",
      " ============ RT @UMNFamilyMed: Are you going to be at the MN State Fair? Want to be part of a UMN study on blood pressure led by @DrAPhilbrick? Look for…\n",
      " ============ gun kooks allowed at MN State Fair as usual, no guns tho 👍\n",
      " ============ RT @DoctorLix: COVID cases went up nearly 600% in SD after Sturgis. It’s magical thinking to believe this won’t happen in MN after the @mns…\n",
      " ============ RT @DoctorLix: COVID cases went up nearly 600% in SD after Sturgis. It’s magical thinking to believe this won’t happen in MN after the @mns…\n",
      " ============ @chrisacarlisle @DarenCotter @mnstatefair @JerryHammer this is our Sturgis.\n",
      "\n",
      "And the state fair is not a closed loo… https://t.co/T9s3XWUJHb\n",
      " ============ RT @StarTribune: UPDATE:  Ramsey County District Judge Laura Nelson weighed several factors in her Minnesota State Fair ruling, ultimately…\n",
      " ============ RT @DrFishSG: The fish cam at the MN State Fair is live.\n",
      "\n",
      "Lots of @SolomonRDavid favorites on display.\n",
      "\n",
      "https://t.co/pxj1PQhpMa\n",
      " ============ RT @DrFishSG: The fish cam at the MN State Fair is live.\n",
      "\n",
      "Lots of @SolomonRDavid favorites on display.\n",
      "\n",
      "https://t.co/pxj1PQhpMa\n",
      " ============ Booth installed at the MN State Fair earlier this week. https://t.co/CapS0ujQvI\n",
      " ============ RT @WCCO: 🔴 MORNING UPDATE: The CDC is now recommending wearing masks in crowded settings with high transmission. That would include the MN…\n",
      " ============ RT @DoctorLix: COVID cases went up nearly 600% in SD after Sturgis. It’s magical thinking to believe this won’t happen in MN after the @mns…\n",
      " ============ I wanted to live tweet my MN state fair experience today.\n",
      "\n",
      "My wife shot it down.\n",
      "\n",
      "Whats the problem? She cant take… https://t.co/11PnPM6drz\n"
     ]
    }
   ],
   "source": [
    "dataset = []\n",
    "for r in results:\n",
    "    retweet = r._json[\"retweeted\"]\n",
    "    if not retweet:\n",
    "        try:\n",
    "            print(f\" ++++++++++++ {r._json['extended_tweet']['full_text']}\")\n",
    "            tweet = r._json['extended_tweet']['full_text']\n",
    "        except:\n",
    "            print(f\" ============ {r._json['text']}\")\n",
    "            tweet = r._json['text']\n",
    "        dataset.append(tweet)\n",
    "        \n",
    "    else:\n",
    "        print(\"--------------- retweeted \")\n",
    "        \n",
    "filename = \"dataset2.txt\"\n",
    "textfile = open(filename, \"w\")\n",
    "for element in dataset:\n",
    "    textfile.write(element + \"\\n\")\n",
    "textfile.close()\n"
   ]
  },
  {
   "cell_type": "code",
   "execution_count": 46,
   "id": "4cbe5abd",
   "metadata": {},
   "outputs": [
    {
     "data": {
      "text/plain": [
       "{'created_at': 'Fri Aug 27 01:18:12 +0000 2021',\n",
       " 'id': 1431063462642393091,\n",
       " 'id_str': '1431063462642393091',\n",
       " 'text': 'RT @ReaganLincoln08: Will you be going to the MN state fair?',\n",
       " 'truncated': False,\n",
       " 'entities': {'hashtags': [],\n",
       "  'symbols': [],\n",
       "  'user_mentions': [{'screen_name': 'ReaganLincoln08',\n",
       "    'name': 'Shelley',\n",
       "    'id': 1686324728,\n",
       "    'id_str': '1686324728',\n",
       "    'indices': [3, 19]}],\n",
       "  'urls': []},\n",
       " 'metadata': {'iso_language_code': 'en', 'result_type': 'recent'},\n",
       " 'source': '<a href=\"http://twitter.com/download/android\" rel=\"nofollow\">Twitter for Android</a>',\n",
       " 'in_reply_to_status_id': None,\n",
       " 'in_reply_to_status_id_str': None,\n",
       " 'in_reply_to_user_id': None,\n",
       " 'in_reply_to_user_id_str': None,\n",
       " 'in_reply_to_screen_name': None,\n",
       " 'user': {'id': 953841952298098688,\n",
       "  'id_str': '953841952298098688',\n",
       "  'name': 'leatherman',\n",
       "  'screen_name': 'Daviddix69',\n",
       "  'location': '',\n",
       "  'description': 'Twins fan USMC RETIRED \\nolder than the inventor of dirt I love my wife my dogs my kids my grandchildren sports, and sleep',\n",
       "  'url': None,\n",
       "  'entities': {'description': {'urls': []}},\n",
       "  'protected': False,\n",
       "  'followers_count': 477,\n",
       "  'friends_count': 720,\n",
       "  'listed_count': 4,\n",
       "  'created_at': 'Thu Jan 18 04:10:17 +0000 2018',\n",
       "  'favourites_count': 140066,\n",
       "  'utc_offset': None,\n",
       "  'time_zone': None,\n",
       "  'geo_enabled': False,\n",
       "  'verified': False,\n",
       "  'statuses_count': 78841,\n",
       "  'lang': None,\n",
       "  'contributors_enabled': False,\n",
       "  'is_translator': False,\n",
       "  'is_translation_enabled': False,\n",
       "  'profile_background_color': 'F5F8FA',\n",
       "  'profile_background_image_url': None,\n",
       "  'profile_background_image_url_https': None,\n",
       "  'profile_background_tile': False,\n",
       "  'profile_image_url': 'http://pbs.twimg.com/profile_images/1387808758227783684/Pw2Qw_aq_normal.jpg',\n",
       "  'profile_image_url_https': 'https://pbs.twimg.com/profile_images/1387808758227783684/Pw2Qw_aq_normal.jpg',\n",
       "  'profile_banner_url': 'https://pbs.twimg.com/profile_banners/953841952298098688/1517007662',\n",
       "  'profile_link_color': '1DA1F2',\n",
       "  'profile_sidebar_border_color': 'C0DEED',\n",
       "  'profile_sidebar_fill_color': 'DDEEF6',\n",
       "  'profile_text_color': '333333',\n",
       "  'profile_use_background_image': True,\n",
       "  'has_extended_profile': False,\n",
       "  'default_profile': True,\n",
       "  'default_profile_image': False,\n",
       "  'following': False,\n",
       "  'follow_request_sent': False,\n",
       "  'notifications': False,\n",
       "  'translator_type': 'none',\n",
       "  'withheld_in_countries': []},\n",
       " 'geo': None,\n",
       " 'coordinates': None,\n",
       " 'place': None,\n",
       " 'contributors': None,\n",
       " 'retweeted_status': {'created_at': 'Fri Aug 27 01:17:30 +0000 2021',\n",
       "  'id': 1431063290235478017,\n",
       "  'id_str': '1431063290235478017',\n",
       "  'text': 'Will you be going to the MN state fair?',\n",
       "  'truncated': False,\n",
       "  'entities': {'hashtags': [], 'symbols': [], 'user_mentions': [], 'urls': []},\n",
       "  'metadata': {'iso_language_code': 'en', 'result_type': 'recent'},\n",
       "  'source': '<a href=\"http://twitter.com/download/iphone\" rel=\"nofollow\">Twitter for iPhone</a>',\n",
       "  'in_reply_to_status_id': None,\n",
       "  'in_reply_to_status_id_str': None,\n",
       "  'in_reply_to_user_id': None,\n",
       "  'in_reply_to_user_id_str': None,\n",
       "  'in_reply_to_screen_name': None,\n",
       "  'user': {'id': 1686324728,\n",
       "   'id_str': '1686324728',\n",
       "   'name': 'Shelley',\n",
       "   'screen_name': 'ReaganLincoln08',\n",
       "   'location': 'Minnesota, USA',\n",
       "   'description': 'I have the pleasure of spending my life with cats and dogs and occasionally, humans👍🏽',\n",
       "   'url': None,\n",
       "   'entities': {'description': {'urls': []}},\n",
       "   'protected': False,\n",
       "   'followers_count': 1028,\n",
       "   'friends_count': 742,\n",
       "   'listed_count': 0,\n",
       "   'created_at': 'Tue Aug 20 17:37:51 +0000 2013',\n",
       "   'favourites_count': 54907,\n",
       "   'utc_offset': None,\n",
       "   'time_zone': None,\n",
       "   'geo_enabled': False,\n",
       "   'verified': False,\n",
       "   'statuses_count': 33511,\n",
       "   'lang': None,\n",
       "   'contributors_enabled': False,\n",
       "   'is_translator': False,\n",
       "   'is_translation_enabled': False,\n",
       "   'profile_background_color': 'C0DEED',\n",
       "   'profile_background_image_url': 'http://abs.twimg.com/images/themes/theme1/bg.png',\n",
       "   'profile_background_image_url_https': 'https://abs.twimg.com/images/themes/theme1/bg.png',\n",
       "   'profile_background_tile': False,\n",
       "   'profile_image_url': 'http://pbs.twimg.com/profile_images/1430367518074494976/BzWJRTzz_normal.jpg',\n",
       "   'profile_image_url_https': 'https://pbs.twimg.com/profile_images/1430367518074494976/BzWJRTzz_normal.jpg',\n",
       "   'profile_banner_url': 'https://pbs.twimg.com/profile_banners/1686324728/1528063532',\n",
       "   'profile_link_color': '1DA1F2',\n",
       "   'profile_sidebar_border_color': 'C0DEED',\n",
       "   'profile_sidebar_fill_color': 'DDEEF6',\n",
       "   'profile_text_color': '333333',\n",
       "   'profile_use_background_image': True,\n",
       "   'has_extended_profile': False,\n",
       "   'default_profile': True,\n",
       "   'default_profile_image': False,\n",
       "   'following': False,\n",
       "   'follow_request_sent': False,\n",
       "   'notifications': False,\n",
       "   'translator_type': 'none',\n",
       "   'withheld_in_countries': []},\n",
       "  'geo': None,\n",
       "  'coordinates': None,\n",
       "  'place': None,\n",
       "  'contributors': None,\n",
       "  'is_quote_status': False,\n",
       "  'retweet_count': 1,\n",
       "  'favorite_count': 1,\n",
       "  'favorited': False,\n",
       "  'retweeted': False,\n",
       "  'lang': 'en'},\n",
       " 'is_quote_status': False,\n",
       " 'retweet_count': 1,\n",
       " 'favorite_count': 0,\n",
       " 'favorited': False,\n",
       " 'retweeted': False,\n",
       " 'lang': 'en'}"
      ]
     },
     "execution_count": 46,
     "metadata": {},
     "output_type": "execute_result"
    }
   ],
   "source": [
    "results[0]._json"
   ]
  },
  {
   "cell_type": "code",
   "execution_count": 49,
   "id": "57578b02",
   "metadata": {},
   "outputs": [
    {
     "data": {
      "text/plain": [
       "100"
      ]
     },
     "execution_count": 49,
     "metadata": {},
     "output_type": "execute_result"
    }
   ],
   "source": [
    "len(results)"
   ]
  },
  {
   "cell_type": "code",
   "execution_count": null,
   "id": "6e200edc",
   "metadata": {},
   "outputs": [],
   "source": []
  }
 ],
 "metadata": {
  "kernelspec": {
   "display_name": "Python Data",
   "language": "python",
   "name": "pythondata"
  },
  "language_info": {
   "codemirror_mode": {
    "name": "ipython",
    "version": 3
   },
   "file_extension": ".py",
   "mimetype": "text/x-python",
   "name": "python",
   "nbconvert_exporter": "python",
   "pygments_lexer": "ipython3",
   "version": "3.8.6"
  }
 },
 "nbformat": 4,
 "nbformat_minor": 5
}
