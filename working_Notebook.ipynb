{
 "cells": [
  {
   "cell_type": "code",
   "execution_count": 1,
   "id": "4f52792e",
   "metadata": {},
   "outputs": [],
   "source": [
    "import tweepy\n",
    "import json\n",
    "from datetime import datetime"
   ]
  },
  {
   "cell_type": "code",
   "execution_count": 13,
   "id": "cf19a359",
   "metadata": {},
   "outputs": [],
   "source": [
    "API_Key = \"i3BgiDWeRDGgx1MieH5pfsQdI\"\n",
    "\n",
    "API_Secret = \"W3tQRuhqBhYCm2PSezofEb0N069DNOT2r36LZzdAOQW29FdWwy\"\n",
    "\n",
    "token = None #'616379578-w3ElYEoF40uO4GyW0KoMAnzM0SG9lhiWhVsY0aj3'\n",
    "secret = None #'nY86GsXMNmttcivMlYJ1iWnqFWhcBsWgLbFbdF5vln9Jz'"
   ]
  },
  {
   "cell_type": "code",
   "execution_count": 14,
   "id": "6afd2467",
   "metadata": {},
   "outputs": [
    {
     "name": "stdout",
     "output_type": "stream",
     "text": [
      "https://api.twitter.com/oauth/authorize?oauth_token=wzGqqQAAAAABS6ayAAABe7xdSOY\n"
     ]
    }
   ],
   "source": [
    "if token is not None:\n",
    "    auth = tweepy.OAuthHandler(token, secret)\n",
    "    auth = tweepy.\n",
    "    api = tweepy.API(auth)\n",
    "else:\n",
    "    auth = tweepy.OAuthHandler(API_Key, API_Secret)\n",
    "    try:\n",
    "        redirect_url = auth.get_authorization_url()\n",
    "        print(redirect_url)\n",
    "    except tweepy.TweepError:\n",
    "        print('Error! Failed to get request token.')\n",
    "    "
   ]
  },
  {
   "cell_type": "code",
   "execution_count": 15,
   "id": "394deebe",
   "metadata": {},
   "outputs": [],
   "source": [
    "pin = \"2148895\""
   ]
  },
  {
   "cell_type": "code",
   "execution_count": 16,
   "id": "90ab5420",
   "metadata": {},
   "outputs": [],
   "source": [
    "try:\n",
    "    auth.get_access_token(pin)\n",
    "except tweepy.TweepError:\n",
    "    print('Error! Failed to get access token.')"
   ]
  },
  {
   "cell_type": "code",
   "execution_count": 17,
   "id": "c034905d",
   "metadata": {
    "scrolled": true
   },
   "outputs": [
    {
     "name": "stdout",
     "output_type": "stream",
     "text": [
      "token: 616379578-w3ElYEoF40uO4GyW0KoMAnzM0SG9lhiWhVsY0aj3\n",
      "secret: nY86GsXMNmttcivMlYJ1iWnqFWhcBsWgLbFbdF5vln9Jz\n"
     ]
    }
   ],
   "source": [
    "print(\"token: \" + auth.access_token )\n",
    "print(\"secret: \" + auth.access_token_secret)"
   ]
  },
  {
   "cell_type": "code",
   "execution_count": 18,
   "id": "dad63625",
   "metadata": {},
   "outputs": [],
   "source": [
    "api = tweepy.API(auth)"
   ]
  },
  {
   "cell_type": "code",
   "execution_count": 19,
   "id": "ed8de63f",
   "metadata": {},
   "outputs": [],
   "source": [
    "import re"
   ]
  },
  {
   "cell_type": "code",
   "execution_count": 20,
   "id": "f1970004",
   "metadata": {},
   "outputs": [],
   "source": [
    "pattern = \"RT @.*:\"\n",
    "prog = re.compile(pattern)"
   ]
  },
  {
   "cell_type": "code",
   "execution_count": 21,
   "id": "b8423653",
   "metadata": {},
   "outputs": [],
   "source": [
    "def getTweets(subject):\n",
    "    #results = api.search_30_day(\"BootCamp\",\"mn state fair\")\n",
    "    \n",
    "    global jsonData \n",
    "    jsonData = api.search(subject,count = 100,lang=\"en\")\n",
    "    dataset = []\n",
    "    for r in jsonData:\n",
    "        name  = r._json['user']['screen_name']\n",
    "        createDate = r._json['created_at']\n",
    "        retweet = r._json[\"retweeted\"]\n",
    "        if not retweet:\n",
    "            try:\n",
    "                tweet = r._json['extended_tweet']['full_text']\n",
    "            except:\n",
    "                tweet = r._json['text']\n",
    "        if prog.search(tweet) is not None:\n",
    "            continue\n",
    "        else:\n",
    "            print(tweet)\n",
    "            data = f\"{name}, {createDate}, {retweet}, {tweet}\"\n",
    "            dataset.append(data)\n",
    "    filename = f\"datasets/dataset {datetime.now().strftime('%Y%m%d%H_%M_%S')}.txt\"\n",
    "    textfile = open(filename, \"w\")\n",
    "    for element in dataset:\n",
    "        textfile.write(element + \"\\n\")\n",
    "    textfile.close()\n",
    "    return dataset\n"
   ]
  },
  {
   "cell_type": "code",
   "execution_count": 22,
   "id": "2cabccb7",
   "metadata": {},
   "outputs": [
    {
     "name": "stdout",
     "output_type": "stream",
     "text": [
      "Monotonectally Mesh Intuitive Manufactured #Products with #domains \n",
      "💰 #biden #trump Buy #domain… https://t.co/Q1AaRSp3ll\n",
      "@TheEconomist Good it's such a wonderful time for sister #Biden\n",
      "Good people in power .\n",
      "Wow \n",
      "#SavePanjshir\n",
      "#USA 🇺🇸\n",
      "\n",
      "AP FACT CHECK: The @AP fact checks #Biden's shaky claim of US readiness in #Afghanistan &amp; his statements o… https://t.co/wXsJZZ6u7G\n",
      "#State department is stopping flights for Americans out of Afghanistan and interpreters? Why?\n",
      "#BIDEN IS NOT VETTING… https://t.co/HWWwvqv5Gx\n",
      "ALL #Corrupt @USCongress #FakeNews #MSM #TERRIFIED #WeThePeople #WORLD N #Jeopardy DO NOT #Comply #facebook… https://t.co/m2pBTfes17\n",
      "\"Biden directs federal aid to NY, NJ after deadly flooding\" https://t.co/ZTCTk2DeMd #Biden #flooding #federalaid\n",
      "#Maddow gets paid millions as #Biden's modern day Tokyo Rose. https://t.co/HIcbv0fBru\n",
      "@sirDukeDevin Of course they would &amp; becomes Republicans talking points!Anything to second guess or undermine… https://t.co/XYKq2Ipnd5\n",
      "#Biden #Afghanistan #Afganistan #AmericanHostageCrisis \n",
      "\n",
      "This is typical spin doctor trick! Shame on these so-calle… https://t.co/vbCKnlKSd8\n",
      "I am anti war but the way Americans left Afghanistan is disgustingly sad. So many of them deserve our help after al… https://t.co/dqhnVtBIWq\n",
      "Belichick clarifies: Vaccines alone won't fix issues\n",
      "#breakingnews #news #china #trump #biden #photo\n",
      "#Belichick… https://t.co/a1lx7cql7j\n",
      "Americans held hostage at Afghan Airport as Resident Biden hides in Delaware Basement. #Biden #COVID #Vaccine\n",
      "\n",
      "https://t.co/rG9608Nmvi\n",
      "@UN @Refugees #RefugeeConventionAt70\n",
      "#UNHCR70\n",
      "#RefugeesWelcome\n",
      "#RestoringWelcome\n",
      "#WithRefugees \n",
      "#EuropeanUnion… https://t.co/JUhs3zN8N4\n",
      "@BDemocratsfor @manifesto2000 @MikeS66006155 @pixfiber @BubblesToBurst @SaginawsSong @banquet_beggars @CyborgBjorn… https://t.co/xtRd3zxoUJ\n",
      "'Traditional' Muslim rules enforced after Taliban invasion curtain divides male female students Afghan universities… https://t.co/hmcIWAuPig\n",
      "\"brung\"  \n",
      "Bring home American citizens stranded in Afghanistan.\n",
      "#Biden #foxnews #newsmax #cnn #foxnewslive… https://t.co/D7TzE5rUS2\n",
      "We didn’t enter #Afghanistan for a 20 year extension on safety.\n",
      "We entered Afghanistan to kill the evil entity that… https://t.co/wx8X0ACdTP\n",
      "@UNGeneva @mbachelet @UNHumanRights #RefugeeConventionAt70\n",
      "#UNHCR70\n",
      "#RefugeesWelcome\n",
      "#RestoringWelcome… https://t.co/NrO3AbuYN2\n",
      "I know that in certain countries (North Korea, former Soviet territory, etc) the President may label those who ques… https://t.co/1HVWnvN1wQ\n",
      "JUST IN (via WH press pool)\n",
      "#Biden is visiting International Brotherhood of Electrical Workers (#IBEW) Local 313 in… https://t.co/yYBwlpZ7K3\n",
      "Daily US COVID-19 infections up more than 300 percent from Labor Day last year https://t.co/G3sKVtxkgN #Biden… https://t.co/Ry4BHNu7e4\n",
      "Wait-I thought we were going to “follow the #Science” not so much now, #Biden? #boostershot #CovidVaccine https://t.co/A1n1Uy8KbE\n",
      "This thread... must read. #Biden #Jobs #Covid #pandemic #hurricane #climatechange #afghanistan #infrastructure https://t.co/2ngUBcVVjM\n",
      "When given the choice between #Trump and #Biden... https://t.co/azJwIJXcOl\n",
      "Masked?  🤔😷 \n",
      "#covid19 #Biden #ImpeachBiden #ResignBiden #foxnews #foxnewslive #newsmax #cnn https://t.co/eQAAyt1mVu\n",
      "#biden #milley #dems #liberals #JoeMustGo #AfghanRefugees #Aghanistan \n",
      "\n",
      "All of these idiots are phoney ballonies co… https://t.co/nABTkGKiCr\n",
      "3 Harmful Consequences of Biden Killing the Keystone XL Pipeline #PJNET #ccot #tcot #tlot #gop #maga #trump #biden https://t.co/3tGu5n54hm\n",
      "🇺🇸 President Joe #Biden approved major disaster declarations Monday, greenlighting federal aid for people in six… https://t.co/xACXO8PgXb\n",
      "@IRiS_Birmingham @nandosigona @AndrewPGeddes @MPC_EUI #RefugeeConventionAt70\n",
      "#UNHCR70\n",
      "#RefugeesWelcome… https://t.co/EAl71wnuUd\n",
      "\"What does the #Biden administration have to hang its hat on right now?\" - @ClayTravis #BidenIsAFailure https://t.co/4COwMI7Wyj\n",
      "People Think Better Of Trump As They Get To Know Biden – Lunch Alert! https://t.co/6RH6mSwDHO @JoeBiden… https://t.co/7YGz6KVGRG\n",
      "@ShaniaTwain I’ll be there if #biden let’s us Brits back in!! If not it will be more money wasted\n",
      "@Reuters #RefugeeConventionAt70\n",
      "#UNHCR70\n",
      "#RefugeesWelcome\n",
      "#RestoringWelcome\n",
      "#WithRefugees \n",
      "#EuropeanUnion… https://t.co/oLneEuEiiX\n",
      "Taliban Holding 6 planes full of Americans and SIV's Hostage \n",
      "\n",
      "#Afghanistan #Biden #Hostages \n",
      "\n",
      "https://t.co/vL0oujpNvG\n",
      "Biden, absent in many, many ways. #biden #BidenDisaster https://t.co/Xf6FmB33Uw\n",
      "President Biden is still defending his decision to withdraw from Afghanistan despite waves of criticism.\n",
      "#Biden… https://t.co/ySP0OsVXDE\n",
      "@Povediitz #Trump #financed #Bolivia coup, #Biden support #Bolsonaro's coup!?\n",
      "Joe #Biden is the modern day Dhritarashtra who oversaw violation of #Afghanistan by Duryodhans of the current era. \n",
      "#TalibanTakeover\n",
      "@ThatOldPimp @chrislhayes #AfghanistanCrisis Should've started evacuation with #Obama and Completed with #Trump...… https://t.co/pQLmLZwswU\n",
      "Let’s hope the #Biden administration can do more to protect #women’s rights in the #US than in #Afghanistan ⁦… https://t.co/WUUljRSFME\n",
      "@HenryPersephone @BeachCity55 @JoeBiden @POTUS @VP @WhiteHouse @DeptofDefense @thejointstaff @TuckerCarlson… https://t.co/XChECYK2Az\n",
      "After #Treadeau can no longer walk the streets, it’s #Biden &amp; #Harris’ turn for a walk of shame and removal. If Can… https://t.co/AnfkCWrsC3\n",
      "FLASHBACK: 4 Years Ago, #Trump Warned Against EXACTLY What #Biden is Doing\n",
      "\n",
      "https://t.co/n2ORg5SShc\n",
      "Gun Owners Celebrate after Gun Ban Struck Down #PJNET #ccot #tcot #tlot #gop #maga #trump #biden https://t.co/rHVzZcfsTo\n",
      "court case against #EmoryUniversity (#Atlanta) was dismissed by two #Emory alumni #judges (one reluctantly disquali… https://t.co/bWo3w6W1fX\n",
      "Democrats are freaking out over Joe Manchin's budget bill rebuff. The White House isn't worried.\n",
      "White House Chief… https://t.co/WCwSWOxNPt\n",
      "#Fauci #biden #who #unicef #cdc #aphq #cartercenter #fda #nih https://t.co/8LgjtKOISq\n",
      "https://t.co/Z6TyUns2F5… https://t.co/jCZTlmCgQM\n",
      "If you were trying to destroy the country, would you be doing anything different from what #biden is doing now?… https://t.co/4Xqka2R20a\n",
      "objectively right-shore premier total #linkage with #domains \n",
      "💰 #biden #trump Buy #domain https://t.co/G3GZIzsFtH… https://t.co/yKML1tZvPQ\n",
      "🇺🇸 #NYC President Joe #Biden approved major disaster declarations greenlighting federal aid for 6 #NewJersey counti… https://t.co/2V7qb79xyD\n",
      "As long as Americans have the rights to freedom of speech and freedom of the press, the world will never forget wha… https://t.co/F6jNyLYEfU\n",
      "'Blue' makes green: Orgeron inspires UCLA shirts\n",
      "#breakingnews #news #china #trump #biden #photo\n",
      "#Blue… https://t.co/XXGkj94HAv\n"
     ]
    }
   ],
   "source": [
    "results = getTweets(\"#biden\")"
   ]
  },
  {
   "cell_type": "code",
   "execution_count": 23,
   "id": "3a874512",
   "metadata": {},
   "outputs": [
    {
     "name": "stdout",
     "output_type": "stream",
     "text": [
      "52\n",
      "** emojizedcom, Mon Sep 06 18:29:15 +0000 2021, False, Monotonectally Mesh Intuitive Manufactured #Products with #domains \n",
      "💰 #biden #trump Buy #domain… https://t.co/Q1AaRSp3ll\n",
      "\n",
      "** global_police, Mon Sep 06 18:29:09 +0000 2021, False, @TheEconomist Good it's such a wonderful time for sister #Biden\n",
      "Good people in power .\n",
      "Wow \n",
      "#SavePanjshir\n",
      "\n",
      "** CurtisSChin, Mon Sep 06 18:28:52 +0000 2021, False, #USA 🇺🇸\n",
      "\n",
      "AP FACT CHECK: The @AP fact checks #Biden's shaky claim of US readiness in #Afghanistan &amp; his statements o… https://t.co/wXsJZZ6u7G\n",
      "\n",
      "** patriotlady76, Mon Sep 06 18:27:45 +0000 2021, False, #State department is stopping flights for Americans out of Afghanistan and interpreters? Why?\n",
      "#BIDEN IS NOT VETTING… https://t.co/HWWwvqv5Gx\n",
      "\n",
      "** two001snake, Mon Sep 06 18:26:37 +0000 2021, False, ALL #Corrupt @USCongress #FakeNews #MSM #TERRIFIED #WeThePeople #WORLD N #Jeopardy DO NOT #Comply #facebook… https://t.co/m2pBTfes17\n",
      "\n",
      "** JoanneSpruceC21, Mon Sep 06 18:25:16 +0000 2021, False, \"Biden directs federal aid to NY, NJ after deadly flooding\" https://t.co/ZTCTk2DeMd #Biden #flooding #federalaid\n",
      "\n",
      "** twistedcomputer, Mon Sep 06 18:24:35 +0000 2021, False, #Maddow gets paid millions as #Biden's modern day Tokyo Rose. https://t.co/HIcbv0fBru\n",
      "\n",
      "** Ingridebap, Mon Sep 06 18:24:32 +0000 2021, False, @sirDukeDevin Of course they would &amp; becomes Republicans talking points!Anything to second guess or undermine… https://t.co/XYKq2Ipnd5\n",
      "\n",
      "** CalicoCalista, Mon Sep 06 18:24:20 +0000 2021, False, #Biden #Afghanistan #Afganistan #AmericanHostageCrisis \n",
      "\n",
      "This is typical spin doctor trick! Shame on these so-calle… https://t.co/vbCKnlKSd8\n",
      "\n",
      "** shepersists2, Mon Sep 06 18:23:54 +0000 2021, False, I am anti war but the way Americans left Afghanistan is disgustingly sad. So many of them deserve our help after al… https://t.co/dqhnVtBIWq\n",
      "\n",
      "** breaknnews1, Mon Sep 06 18:23:54 +0000 2021, False, Belichick clarifies: Vaccines alone won't fix issues\n",
      "#breakingnews #news #china #trump #biden #photo\n",
      "#Belichick… https://t.co/a1lx7cql7j\n",
      "\n",
      "** BoesenA, Mon Sep 06 18:22:50 +0000 2021, False, Americans held hostage at Afghan Airport as Resident Biden hides in Delaware Basement. #Biden #COVID #Vaccine\n",
      "\n",
      "https://t.co/rG9608Nmvi\n",
      "\n",
      "** AbuMustafa_2020, Mon Sep 06 18:22:32 +0000 2021, False, @UN @Refugees #RefugeeConventionAt70\n",
      "#UNHCR70\n",
      "#RefugeesWelcome\n",
      "#RestoringWelcome\n",
      "#WithRefugees \n",
      "#EuropeanUnion… https://t.co/JUhs3zN8N4\n",
      "\n",
      "** rdsathene, Mon Sep 06 18:22:02 +0000 2021, False, @BDemocratsfor @manifesto2000 @MikeS66006155 @pixfiber @BubblesToBurst @SaginawsSong @banquet_beggars @CyborgBjorn… https://t.co/xtRd3zxoUJ\n",
      "\n",
      "** JamesLiskutin, Mon Sep 06 18:21:57 +0000 2021, False, 'Traditional' Muslim rules enforced after Taliban invasion curtain divides male female students Afghan universities… https://t.co/hmcIWAuPig\n",
      "\n",
      "** RLTraveler, Mon Sep 06 18:21:42 +0000 2021, False, \"brung\"  \n",
      "Bring home American citizens stranded in Afghanistan.\n",
      "#Biden #foxnews #newsmax #cnn #foxnewslive… https://t.co/D7TzE5rUS2\n",
      "\n",
      "** canine2, Mon Sep 06 18:20:44 +0000 2021, False, We didn’t enter #Afghanistan for a 20 year extension on safety.\n",
      "We entered Afghanistan to kill the evil entity that… https://t.co/wx8X0ACdTP\n",
      "\n",
      "** AbuMustafa_2020, Mon Sep 06 18:20:35 +0000 2021, False, @UNGeneva @mbachelet @UNHumanRights #RefugeeConventionAt70\n",
      "#UNHCR70\n",
      "#RefugeesWelcome\n",
      "#RestoringWelcome… https://t.co/NrO3AbuYN2\n",
      "\n",
      "** SaintlySicilian, Mon Sep 06 18:20:32 +0000 2021, False, I know that in certain countries (North Korea, former Soviet territory, etc) the President may label those who ques… https://t.co/1HVWnvN1wQ\n",
      "\n",
      "** DevonHeinen, Mon Sep 06 18:20:12 +0000 2021, False, JUST IN (via WH press pool)\n",
      "#Biden is visiting International Brotherhood of Electrical Workers (#IBEW) Local 313 in… https://t.co/yYBwlpZ7K3\n",
      "\n",
      "** JohnKevinLucke1, Mon Sep 06 18:18:49 +0000 2021, False, Daily US COVID-19 infections up more than 300 percent from Labor Day last year https://t.co/G3sKVtxkgN #Biden… https://t.co/Ry4BHNu7e4\n",
      "\n",
      "** 00001Kat, Mon Sep 06 18:18:44 +0000 2021, False, Wait-I thought we were going to “follow the #Science” not so much now, #Biden? #boostershot #CovidVaccine https://t.co/A1n1Uy8KbE\n",
      "\n",
      "** ediefr, Mon Sep 06 18:18:16 +0000 2021, False, This thread... must read. #Biden #Jobs #Covid #pandemic #hurricane #climatechange #afghanistan #infrastructure https://t.co/2ngUBcVVjM\n",
      "\n",
      "** BHPanimalwatch, Mon Sep 06 18:18:00 +0000 2021, False, When given the choice between #Trump and #Biden... https://t.co/azJwIJXcOl\n",
      "\n",
      "** RLTraveler, Mon Sep 06 18:16:19 +0000 2021, False, Masked?  🤔😷 \n",
      "#covid19 #Biden #ImpeachBiden #ResignBiden #foxnews #foxnewslive #newsmax #cnn https://t.co/eQAAyt1mVu\n",
      "\n",
      "** Demscorruptlia1, Mon Sep 06 18:16:06 +0000 2021, False, #biden #milley #dems #liberals #JoeMustGo #AfghanRefugees #Aghanistan \n",
      "\n",
      "All of these idiots are phoney ballonies co… https://t.co/nABTkGKiCr\n",
      "\n",
      "** DonnyFerguson, Mon Sep 06 18:15:06 +0000 2021, False, 3 Harmful Consequences of Biden Killing the Keystone XL Pipeline #PJNET #ccot #tcot #tlot #gop #maga #trump #biden https://t.co/3tGu5n54hm\n",
      "\n",
      "** EngelhardtDeniz, Mon Sep 06 18:15:03 +0000 2021, False, 🇺🇸 President Joe #Biden approved major disaster declarations Monday, greenlighting federal aid for people in six… https://t.co/xACXO8PgXb\n",
      "\n",
      "** AbuMustafa_2020, Mon Sep 06 18:14:54 +0000 2021, False, @IRiS_Birmingham @nandosigona @AndrewPGeddes @MPC_EUI #RefugeeConventionAt70\n",
      "#UNHCR70\n",
      "#RefugeesWelcome… https://t.co/EAl71wnuUd\n",
      "\n",
      "** clayandbuck, Mon Sep 06 18:14:27 +0000 2021, False, \"What does the #Biden administration have to hang its hat on right now?\" - @ClayTravis #BidenIsAFailure https://t.co/4COwMI7Wyj\n",
      "\n",
      "** DickMorrisTweet, Mon Sep 06 18:13:31 +0000 2021, False, People Think Better Of Trump As They Get To Know Biden – Lunch Alert! https://t.co/6RH6mSwDHO @JoeBiden… https://t.co/7YGz6KVGRG\n",
      "\n",
      "** wessas68, Mon Sep 06 18:12:40 +0000 2021, False, @ShaniaTwain I’ll be there if #biden let’s us Brits back in!! If not it will be more money wasted\n",
      "\n",
      "** AbuMustafa_2020, Mon Sep 06 18:12:36 +0000 2021, False, @Reuters #RefugeeConventionAt70\n",
      "#UNHCR70\n",
      "#RefugeesWelcome\n",
      "#RestoringWelcome\n",
      "#WithRefugees \n",
      "#EuropeanUnion… https://t.co/oLneEuEiiX\n",
      "\n",
      "** ChuckNorton1, Mon Sep 06 18:12:24 +0000 2021, False, Taliban Holding 6 planes full of Americans and SIV's Hostage \n",
      "\n",
      "#Afghanistan #Biden #Hostages \n",
      "\n",
      "https://t.co/vL0oujpNvG\n",
      "\n",
      "** TomBalderston, Mon Sep 06 18:12:13 +0000 2021, False, Biden, absent in many, many ways. #biden #BidenDisaster https://t.co/Xf6FmB33Uw\n",
      "\n",
      "** speaker42, Mon Sep 06 18:11:52 +0000 2021, False, President Biden is still defending his decision to withdraw from Afghanistan despite waves of criticism.\n",
      "#Biden… https://t.co/ySP0OsVXDE\n",
      "\n",
      "** FernandaCamino, Mon Sep 06 18:11:09 +0000 2021, False, @Povediitz #Trump #financed #Bolivia coup, #Biden support #Bolsonaro's coup!?\n",
      "\n",
      "** AjayKauljourno, Mon Sep 06 18:09:09 +0000 2021, False, Joe #Biden is the modern day Dhritarashtra who oversaw violation of #Afghanistan by Duryodhans of the current era. \n",
      "#TalibanTakeover\n",
      "\n",
      "** God4HopeFaith, Mon Sep 06 18:08:50 +0000 2021, False, @ThatOldPimp @chrislhayes #AfghanistanCrisis Should've started evacuation with #Obama and Completed with #Trump...… https://t.co/pQLmLZwswU\n",
      "\n",
      "** leylaboulton, Mon Sep 06 18:04:40 +0000 2021, False, Let’s hope the #Biden administration can do more to protect #women’s rights in the #US than in #Afghanistan ⁦… https://t.co/WUUljRSFME\n",
      "\n",
      "** RestDollfaceJMT, Mon Sep 06 18:02:42 +0000 2021, False, @HenryPersephone @BeachCity55 @JoeBiden @POTUS @VP @WhiteHouse @DeptofDefense @thejointstaff @TuckerCarlson… https://t.co/XChECYK2Az\n",
      "\n",
      "** PurQi, Mon Sep 06 18:02:14 +0000 2021, False, After #Treadeau can no longer walk the streets, it’s #Biden &amp; #Harris’ turn for a walk of shame and removal. If Can… https://t.co/AnfkCWrsC3\n",
      "\n",
      "** Zoetnet, Mon Sep 06 18:01:44 +0000 2021, False, FLASHBACK: 4 Years Ago, #Trump Warned Against EXACTLY What #Biden is Doing\n",
      "\n",
      "https://t.co/n2ORg5SShc\n",
      "\n",
      "** DonnyFerguson, Mon Sep 06 18:00:26 +0000 2021, False, Gun Owners Celebrate after Gun Ban Struck Down #PJNET #ccot #tcot #tlot #gop #maga #trump #biden https://t.co/rHVzZcfsTo\n",
      "\n",
      "** marching201516, Mon Sep 06 18:00:14 +0000 2021, False, court case against #EmoryUniversity (#Atlanta) was dismissed by two #Emory alumni #judges (one reluctantly disquali… https://t.co/bWo3w6W1fX\n",
      "\n",
      "** Iustiti52533878, Mon Sep 06 17:59:33 +0000 2021, False, Democrats are freaking out over Joe Manchin's budget bill rebuff. The White House isn't worried.\n",
      "White House Chief… https://t.co/WCwSWOxNPt\n",
      "\n",
      "** suiwazear, Mon Sep 06 17:59:23 +0000 2021, False, #Fauci #biden #who #unicef #cdc #aphq #cartercenter #fda #nih https://t.co/8LgjtKOISq\n",
      "https://t.co/Z6TyUns2F5… https://t.co/jCZTlmCgQM\n",
      "\n",
      "** APissedOffCons1, Mon Sep 06 17:59:17 +0000 2021, False, If you were trying to destroy the country, would you be doing anything different from what #biden is doing now?… https://t.co/4Xqka2R20a\n",
      "\n",
      "** emojizedcom, Mon Sep 06 17:57:59 +0000 2021, False, objectively right-shore premier total #linkage with #domains \n",
      "💰 #biden #trump Buy #domain https://t.co/G3GZIzsFtH… https://t.co/yKML1tZvPQ\n",
      "\n",
      "** EngelhardtDeniz, Mon Sep 06 17:57:52 +0000 2021, False, 🇺🇸 #NYC President Joe #Biden approved major disaster declarations greenlighting federal aid for 6 #NewJersey counti… https://t.co/2V7qb79xyD\n",
      "\n",
      "** bluzrocker, Mon Sep 06 17:53:58 +0000 2021, False, As long as Americans have the rights to freedom of speech and freedom of the press, the world will never forget wha… https://t.co/F6jNyLYEfU\n",
      "\n",
      "** breaknnews1, Mon Sep 06 17:53:44 +0000 2021, False, 'Blue' makes green: Orgeron inspires UCLA shirts\n",
      "#breakingnews #news #china #trump #biden #photo\n",
      "#Blue… https://t.co/XXGkj94HAv\n",
      "\n"
     ]
    }
   ],
   "source": [
    "print(len(results))\n",
    "for r in results:\n",
    "    print(f\"** {r}\\n\")"
   ]
  },
  {
   "cell_type": "code",
   "execution_count": 24,
   "id": "b6ea214e",
   "metadata": {},
   "outputs": [],
   "source": [
    "test = results[4]"
   ]
  },
  {
   "cell_type": "code",
   "execution_count": 25,
   "id": "30ae2944",
   "metadata": {},
   "outputs": [
    {
     "data": {
      "text/plain": [
       "'two001snake, Mon Sep 06 18:26:37 +0000 2021, False, ALL #Corrupt @USCongress #FakeNews #MSM #TERRIFIED #WeThePeople #WORLD N #Jeopardy DO NOT #Comply #facebook… https://t.co/m2pBTfes17'"
      ]
     },
     "execution_count": 25,
     "metadata": {},
     "output_type": "execute_result"
    }
   ],
   "source": [
    "test"
   ]
  },
  {
   "cell_type": "code",
   "execution_count": 26,
   "id": "2f4c7748",
   "metadata": {},
   "outputs": [],
   "source": [
    "test = test.replace(\"\\n\", \"\")"
   ]
  },
  {
   "cell_type": "code",
   "execution_count": 27,
   "id": "f6dc1b25",
   "metadata": {},
   "outputs": [
    {
     "data": {
      "text/plain": [
       "'two001snake, Mon Sep 06 18:26:37 +0000 2021, False, ALL #Corrupt @USCongress #FakeNews #MSM #TERRIFIED #WeThePeople #WORLD N #Jeopardy DO NOT #Comply #facebook… https://t.co/m2pBTfes17'"
      ]
     },
     "execution_count": 27,
     "metadata": {},
     "output_type": "execute_result"
    }
   ],
   "source": [
    "test"
   ]
  },
  {
   "cell_type": "code",
   "execution_count": 28,
   "id": "804a12be",
   "metadata": {},
   "outputs": [],
   "source": [
    "from textblob import TextBlob"
   ]
  },
  {
   "cell_type": "code",
   "execution_count": 29,
   "id": "dd1076e0",
   "metadata": {},
   "outputs": [
    {
     "name": "stdout",
     "output_type": "stream",
     "text": [
      "Sentiment(polarity=0.6, subjectivity=1.0)\n"
     ]
    }
   ],
   "source": [
    "analysis = TextBlob(\"your mother is nice\").sentiment\n",
    "print(analysis)"
   ]
  },
  {
   "cell_type": "code",
   "execution_count": 50,
   "id": "5bbe8acd",
   "metadata": {},
   "outputs": [
    {
     "data": {
      "text/plain": [
       "'jusdax, Sat Sep 04 15:21:02 +0000 2021, False, if you have the ability to love . Love yourself first.#adityabruh #adityaforever #jusdaxbruh #cheekfiller #fillers… https://t.co/c4zY0ByqFf'"
      ]
     },
     "execution_count": 50,
     "metadata": {},
     "output_type": "execute_result"
    }
   ],
   "source": [
    "test"
   ]
  },
  {
   "cell_type": "code",
   "execution_count": null,
   "id": "6b363829",
   "metadata": {},
   "outputs": [],
   "source": []
  }
 ],
 "metadata": {
  "kernelspec": {
   "display_name": "Python Data",
   "language": "python",
   "name": "pythondata"
  },
  "language_info": {
   "codemirror_mode": {
    "name": "ipython",
    "version": 3
   },
   "file_extension": ".py",
   "mimetype": "text/x-python",
   "name": "python",
   "nbconvert_exporter": "python",
   "pygments_lexer": "ipython3",
   "version": "3.8.6"
  }
 },
 "nbformat": 4,
 "nbformat_minor": 5
}
