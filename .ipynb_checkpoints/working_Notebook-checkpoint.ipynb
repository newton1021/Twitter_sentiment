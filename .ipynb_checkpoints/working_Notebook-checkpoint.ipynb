{
 "cells": [
  {
   "cell_type": "code",
   "execution_count": 1,
   "id": "4190f1bb",
   "metadata": {},
   "outputs": [],
   "source": [
    "import tweepy\n",
    "import json"
   ]
  },
  {
   "cell_type": "code",
   "execution_count": 2,
   "id": "a703ebb4",
   "metadata": {},
   "outputs": [],
   "source": [
    "API_Key = \"i3BgiDWeRDGgx1MieH5pfsQdI\"\n",
    "\n",
    "API_Secret = \"W3tQRuhqBhYCm2PSezofEb0N069DNOT2r36LZzdAOQW29FdWwy\""
   ]
  },
  {
   "cell_type": "code",
   "execution_count": 14,
   "id": "f7f1eec2",
   "metadata": {},
   "outputs": [],
   "source": [
    "auth = tweepy.OAuthHandler(API_Key, API_Secret)"
   ]
  },
  {
   "cell_type": "code",
   "execution_count": 15,
   "id": "f2ca9dd8",
   "metadata": {},
   "outputs": [],
   "source": [
    "try:\n",
    "    redirect_url = auth.get_authorization_url()\n",
    "except tweepy.TweepError:\n",
    "    print('Error! Failed to get request token.')"
   ]
  },
  {
   "cell_type": "code",
   "execution_count": 16,
   "id": "debc93ef",
   "metadata": {},
   "outputs": [
    {
     "name": "stdout",
     "output_type": "stream",
     "text": [
      "https://api.twitter.com/oauth/authorize?oauth_token=2iG5HQAAAAABS6ayAAABe4TDN4k\n"
     ]
    }
   ],
   "source": [
    "print(redirect_url)"
   ]
  },
  {
   "cell_type": "code",
   "execution_count": 17,
   "id": "58c26aa3",
   "metadata": {},
   "outputs": [],
   "source": [
    "pin = \"1277511\""
   ]
  },
  {
   "cell_type": "code",
   "execution_count": 18,
   "id": "cb473895",
   "metadata": {},
   "outputs": [],
   "source": [
    "try:\n",
    "    auth.get_access_token(pin)\n",
    "except tweepy.TweepError:\n",
    "    print('Error! Failed to get access token.')"
   ]
  },
  {
   "cell_type": "code",
   "execution_count": 19,
   "id": "6026e47a",
   "metadata": {
    "scrolled": true
   },
   "outputs": [
    {
     "name": "stdout",
     "output_type": "stream",
     "text": [
      "token: 616379578-w3ElYEoF40uO4GyW0KoMAnzM0SG9lhiWhVsY0aj3\n",
      "secret: nY86GsXMNmttcivMlYJ1iWnqFWhcBsWgLbFbdF5vln9Jz\n"
     ]
    }
   ],
   "source": [
    "print(\"token: \" + auth.access_token )\n",
    "print(\"secret: \" + auth.access_token_secret)"
   ]
  },
  {
   "cell_type": "code",
   "execution_count": null,
   "id": "2ed7b8ac",
   "metadata": {},
   "outputs": [],
   "source": [
    "#save tokens\n"
   ]
  },
  {
   "cell_type": "code",
   "execution_count": null,
   "id": "49d1cd45",
   "metadata": {},
   "outputs": [],
   "source": []
  },
  {
   "cell_type": "code",
   "execution_count": null,
   "id": "ce7792f9",
   "metadata": {},
   "outputs": [],
   "source": []
  },
  {
   "cell_type": "code",
   "execution_count": null,
   "id": "a0675349",
   "metadata": {},
   "outputs": [],
   "source": []
  },
  {
   "cell_type": "code",
   "execution_count": 20,
   "id": "15ae88b3",
   "metadata": {},
   "outputs": [],
   "source": [
    "api = tweepy.API(auth)"
   ]
  },
  {
   "cell_type": "code",
   "execution_count": 54,
   "id": "13a7bd8a",
   "metadata": {},
   "outputs": [],
   "source": [
    "#results = api.search_30_day(\"BootCamp\",\"mn state fair\")\n",
    "results = api.search(\"#MnStateFair\",count = 100)"
   ]
  },
  {
   "cell_type": "code",
   "execution_count": 57,
   "id": "0f11dc8b",
   "metadata": {},
   "outputs": [
    {
     "name": "stdout",
     "output_type": "stream",
     "text": [
      " ============ On Sunday, August 29th at 11:30am I'm doing audience rapid readings at the Minnesota State Fair! Head to the #KSTP… https://t.co/KLOTuO5XAY\n",
      " ============ RT @JayGabler: So on brand that the #mnstatefair crop art is protesting itself https://t.co/JAMn5oZj15\n",
      " ============ RT @JayGabler: So on brand that the #mnstatefair crop art is protesting itself https://t.co/JAMn5oZj15\n",
      " ============ RT @NickLewis37: It’s finally here! I absolutely love the @mnstatefair for many reasons but the food is unmatched. Here’s my 37 must eat Mi…\n",
      " ============ RT @RossRaihala: .#mnstatefair update. Free stages are canceled tonight. Grandstand show delayed, not canceled at this point.\n",
      " ============ RT @mnstatefair: We’ve waited two years to say this: Welcome to the Minnesota State Fair!⁣\n",
      "⁣\n",
      "The Great Minnesota Get-Back-Together starts n…\n",
      " ============ RT @gdeu08: Day 1 of The Great Minnesota Get-Back-Together is in the books. Here’s my crop art submission, Surprised Pikachu, one of my fav…\n",
      " ============ RT @JayGabler: So on brand that the #mnstatefair crop art is protesting itself https://t.co/JAMn5oZj15\n",
      " ============ RT @julieblaha: A third place and a merit! I’m thrilled given the incredible competition. #mnstatefair #cropart https://t.co/EmYYWaIf6u\n",
      " ============ RT @JayGabler: So on brand that the #mnstatefair crop art is protesting itself https://t.co/JAMn5oZj15\n",
      " ============ RT @lizzwinstead: This weekend so many friends are in coming to MN to celebrate my 60th by attending my cherished @mnstatefair The brillian…\n",
      " ============ RT @gdeu08: Day 1 of The Great Minnesota Get-Back-Together is in the books. Here’s my crop art submission, Surprised Pikachu, one of my fav…\n",
      " ============ RT @gdeu08: Day 1 of The Great Minnesota Get-Back-Together is in the books. Here’s my crop art submission, Surprised Pikachu, one of my fav…\n",
      " ============ RT @j3tpackblue: cant even fathom the level of selfishness you’d need in order to go to the #mnstatefair rn\n",
      " ============ RT @OliviaCrull: Not religious but a thunderstorm with torrential downpour on the first day of the #mnstatefair is definitely God's wrath f…\n",
      " ============ RT @JayGabler: So on brand that the #mnstatefair crop art is protesting itself https://t.co/JAMn5oZj15\n",
      " ============ RT @jenjenmace: My soul is sad that today is the start of #MNStateFair and, because people are selfish, we’re 18 months into a pandemic and…\n",
      " ============ RT @JayGabler: So on brand that the #mnstatefair crop art is protesting itself https://t.co/JAMn5oZj15\n",
      " ============ RT @StPauliGrrrl: More crop art. I redid my (pandemic) Pac-Man at 40 I had entered in the virtual competition last year (I added blue paint…\n",
      " ============ RT @BeeBooker2: #mnstatefair should not be happening without proper precautions regarding covid\n",
      " ============ RT @WelcomeJerde: Just gave away my #mnstatefair tickets. Not safe to go #GreatMNGetSickTogether\n",
      " ============ RT @JayGabler: So on brand that the #mnstatefair crop art is protesting itself https://t.co/JAMn5oZj15\n",
      " ============ RT @MNIT_Services: We hope that the 11th Annual STEM Day at the State Fair will inspire students and allow them to envision their successfu…\n",
      " ============ RT @JayGabler: So on brand that the #mnstatefair crop art is protesting itself https://t.co/JAMn5oZj15\n",
      " ============ RT @JayGabler: So on brand that the #mnstatefair crop art is protesting itself https://t.co/JAMn5oZj15\n",
      " ============ RT @mnstatefair: We still have positions available! Areas of need include ticket taking and selling, parking lot attendants, cleaning and s…\n",
      " ============ RT @JayGabler: So on brand that the #mnstatefair crop art is protesting itself https://t.co/JAMn5oZj15\n",
      " ============ RT @brennantay: Delta variant day 1 for the people going today. #mnstatefair\n",
      " ============ .#mnstatefair update. Free stages are canceled tonight. Grandstand show delayed, not canceled at this point.\n",
      " ============ RT @JayGabler: So on brand that the #mnstatefair crop art is protesting itself https://t.co/JAMn5oZj15\n",
      " ============ RT @JayGabler: So on brand that the #mnstatefair crop art is protesting itself https://t.co/JAMn5oZj15\n",
      " ============ RT @JayGabler: So on brand that the #mnstatefair crop art is protesting itself https://t.co/JAMn5oZj15\n",
      " ============ RT @OliviaCrull: Not religious but a thunderstorm with torrential downpour on the first day of the #mnstatefair is definitely God's wrath f…\n",
      " ============ so pumped the #MNstatefair is open again this year 💖🌀🌺🦋🌀🌟 https://t.co/A9Kzhm8cGk\n",
      " ============ RT @StPauliGrrrl: My last crop art entry: \"50 Years on the Oregon Trail.\" Also, \"I was robbed of a ribbon on the Oregon Trail.\" 😂\n",
      "#oregontr…\n",
      " ============ RT @JayGabler: So on brand that the #mnstatefair crop art is protesting itself https://t.co/JAMn5oZj15\n",
      " ============ RT @gdeu08: Day 1 of The Great Minnesota Get-Back-Together is in the books. Here’s my crop art submission, Surprised Pikachu, one of my fav…\n",
      " ============ RT @JayGabler: So on brand that the #mnstatefair crop art is protesting itself https://t.co/JAMn5oZj15\n",
      " ============ RT @julieblaha: A third place and a merit! I’m thrilled given the incredible competition. #mnstatefair #cropart https://t.co/EmYYWaIf6u\n",
      " ============ RT @JayGabler: So on brand that the #mnstatefair crop art is protesting itself https://t.co/JAMn5oZj15\n",
      " ============ RT @JayGabler: So on brand that the #mnstatefair crop art is protesting itself https://t.co/JAMn5oZj15\n",
      " ============ RT @JayGabler: So on brand that the #mnstatefair crop art is protesting itself https://t.co/JAMn5oZj15\n",
      " ============ RT @gdeu08: Day 1 of The Great Minnesota Get-Back-Together is in the books. Here’s my crop art submission, Surprised Pikachu, one of my fav…\n",
      " ============ RT @JayGabler: So on brand that the #mnstatefair crop art is protesting itself https://t.co/JAMn5oZj15\n",
      " ============ RT @gdeu08: Day 1 of The Great Minnesota Get-Back-Together is in the books. Here’s my crop art submission, Surprised Pikachu, one of my fav…\n",
      " ============ RT @JayGabler: So on brand that the #mnstatefair crop art is protesting itself https://t.co/JAMn5oZj15\n",
      " ============ RT @emily7m: Attn anyone who is actually going to the #mnstatefair this year - I need to know how big the state's largest pumpkin and large…\n",
      " ============ RT @julieblaha: A third place and a merit! I’m thrilled given the incredible competition. #mnstatefair #cropart https://t.co/EmYYWaIf6u\n",
      " ============ RT @JayGabler: So on brand that the #mnstatefair crop art is protesting itself https://t.co/JAMn5oZj15\n",
      " ============ RT @JayGabler: So on brand that the #mnstatefair crop art is protesting itself https://t.co/JAMn5oZj15\n",
      " ============ RT @JayGabler: So on brand that the #mnstatefair crop art is protesting itself https://t.co/JAMn5oZj15\n",
      " ============ RT @mnstatefair: We’ve waited two years to say this: Welcome to the Minnesota State Fair!⁣\n",
      "⁣\n",
      "The Great Minnesota Get-Back-Together starts n…\n",
      " ============ RT @JayGabler: So on brand that the #mnstatefair crop art is protesting itself https://t.co/JAMn5oZj15\n",
      " ============ RT @JayGabler: So on brand that the #mnstatefair crop art is protesting itself https://t.co/JAMn5oZj15\n",
      " ============ RT @JayGabler: So on brand that the #mnstatefair crop art is protesting itself https://t.co/JAMn5oZj15\n",
      " ============ RT @JayGabler: So on brand that the #mnstatefair crop art is protesting itself https://t.co/JAMn5oZj15\n",
      " ============ RT @JayGabler: So on brand that the #mnstatefair crop art is protesting itself https://t.co/JAMn5oZj15\n",
      " ============ RT @JayGabler: So on brand that the #mnstatefair crop art is protesting itself https://t.co/JAMn5oZj15\n",
      " ============ RT @JayGabler: So on brand that the #mnstatefair crop art is protesting itself https://t.co/JAMn5oZj15\n",
      " ============ RT @JayGabler: So on brand that the #mnstatefair crop art is protesting itself https://t.co/JAMn5oZj15\n",
      " ============ RT @YorkiePug: #mnstatefair I love &amp; miss you, but with no mask or vaccine requirements I’m not going anywhere near you\n",
      " ============ RT @NattyRose007: This is my 2021 mood captured in crop art... #mnstatefair https://t.co/rQMMTm2Vny\n",
      " ============ RT @JayGabler: So on brand that the #mnstatefair crop art is protesting itself https://t.co/JAMn5oZj15\n",
      " ============ RT @JayGabler: So on brand that the #mnstatefair crop art is protesting itself https://t.co/JAMn5oZj15\n",
      " ============ Can’t wait to not go to the #mnstatefair because I value my and my family’s health over a few hours of fun.\n",
      " ============ RT @gdeu08: Day 1 of The Great Minnesota Get-Back-Together is in the books. Here’s my crop art submission, Surprised Pikachu, one of my fav…\n",
      " ============ Lead 6-4 top 7. Who answers the rain calls at the #MnStateFair?\n",
      " ============ RT @gdeu08: Day 1 of The Great Minnesota Get-Back-Together is in the books. Here’s my crop art submission, Surprised Pikachu, one of my fav…\n",
      " ============ Attn anyone who is actually going to the #mnstatefair this year - I need to know how big the state's largest pumpki… https://t.co/CmFt9izLU2\n",
      " ============ RT @tfields18: First post storm apocalypse selfie at the great #MNSTATEFAIR  @DanBarreiroKFAN https://t.co/KXGoRgAlGB\n",
      " ============ RT @JayGabler: So on brand that the #mnstatefair crop art is protesting itself https://t.co/JAMn5oZj15\n",
      " ============ RT @JayGabler: So on brand that the #mnstatefair crop art is protesting itself https://t.co/JAMn5oZj15\n",
      " ============ RT @JayGabler: So on brand that the #mnstatefair crop art is protesting itself https://t.co/JAMn5oZj15\n",
      " ============ RT @JayGabler: So on brand that the #mnstatefair crop art is protesting itself https://t.co/JAMn5oZj15\n",
      " ============ RT @JayGabler: So on brand that the #mnstatefair crop art is protesting itself https://t.co/JAMn5oZj15\n",
      " ============ RT @NattyRose007: This is my 2021 mood captured in crop art... #mnstatefair https://t.co/rQMMTm2Vny\n",
      " ============ RT @JayGabler: So on brand that the #mnstatefair crop art is protesting itself https://t.co/JAMn5oZj15\n",
      " ============ RT @mnstatefair: We’ve waited two years to say this: Welcome to the Minnesota State Fair!⁣\n",
      "⁣\n",
      "The Great Minnesota Get-Back-Together starts n…\n",
      " ============ RT @JayGabler: So on brand that the #mnstatefair crop art is protesting itself https://t.co/JAMn5oZj15\n",
      " ============ RT @JayGabler: So on brand that the #mnstatefair crop art is protesting itself https://t.co/JAMn5oZj15\n",
      " ============ Here's a tip for ya to help you know how crowded/not crowded it is at @mnstatefair. \n",
      "\n",
      "The #MNStateFair has created… https://t.co/hvEFuABdK2\n",
      " ============ RT @JayGabler: So on brand that the #mnstatefair crop art is protesting itself https://t.co/JAMn5oZj15\n",
      " ============ RT @JayGabler: So on brand that the #mnstatefair crop art is protesting itself https://t.co/JAMn5oZj15\n",
      " ============ RT @JayGabler: So on brand that the #mnstatefair crop art is protesting itself https://t.co/JAMn5oZj15\n",
      " ============ RT @rstanzel: PSA - if you’re going to @mnstatefair…you may not need a mask there but you 💯 need one in the rideshare you’re taking there.…\n",
      " ============ RT @JayGabler: So on brand that the #mnstatefair crop art is protesting itself https://t.co/JAMn5oZj15\n",
      " ============ RT @JayGabler: So on brand that the #mnstatefair crop art is protesting itself https://t.co/JAMn5oZj15\n",
      " ============ RT @JayGabler: So on brand that the #mnstatefair crop art is protesting itself https://t.co/JAMn5oZj15\n",
      " ============ RT @JayGabler: So on brand that the #mnstatefair crop art is protesting itself https://t.co/JAMn5oZj15\n",
      " ============ RT @JayGabler: So on brand that the #mnstatefair crop art is protesting itself https://t.co/JAMn5oZj15\n",
      " ============ RT @JayGabler: So on brand that the #mnstatefair crop art is protesting itself https://t.co/JAMn5oZj15\n",
      " ============ RT @JayGabler: So on brand that the #mnstatefair crop art is protesting itself https://t.co/JAMn5oZj15\n",
      " ============ RT @JayGabler: So on brand that the #mnstatefair crop art is protesting itself https://t.co/JAMn5oZj15\n",
      " ============ RT @JayGabler: So on brand that the #mnstatefair crop art is protesting itself https://t.co/JAMn5oZj15\n",
      " ============ RT @JayGabler: So on brand that the #mnstatefair crop art is protesting itself https://t.co/JAMn5oZj15\n",
      " ============ RT @OliviaCrull: Not religious but a thunderstorm with torrential downpour on the first day of the #mnstatefair is definitely God's wrath f…\n",
      " ============ RT @OliviaCrull: Not religious but a thunderstorm with torrential downpour on the first day of the #mnstatefair is definitely God's wrath f…\n",
      " ============ RT @JayGabler: So on brand that the #mnstatefair crop art is protesting itself https://t.co/JAMn5oZj15\n",
      " ============ RT @JayGabler: So on brand that the #mnstatefair crop art is protesting itself https://t.co/JAMn5oZj15\n",
      " ============ RT @MNUpNorthLakeG1: @saylehan . @TinaSmithMN isnt helping the cause: \n",
      "\n",
      "https://t.co/9WHLbMT9sY\n",
      "\n",
      "#mnstatefair\n"
     ]
    }
   ],
   "source": [
    "dataset = []\n",
    "for r in results:\n",
    "    retweet = r._json[\"retweeted\"]\n",
    "    if not retweet:\n",
    "        try:\n",
    "            print(f\" ++++++++++++ {r._json['extended_tweet']['full_text']}, {r._json['retweet_count']}, {r._json['favorite_count']}\")\n",
    "            tweet = r._json['extended_tweet']['full_text']\n",
    "        except:\n",
    "            print(f\" ============ {r._json['text']}, {r._json['retweet_count']}, {r._json['favorite_count']}\")\n",
    "            tweet = r._json['text']\n",
    "        dataset.append(tweet)\n",
    "        \n",
    "    else:\n",
    "        print(\"--------------- retweeted \")\n",
    "        \n",
    "filename = \"dataset3.txt\"\n",
    "textfile = open(filename, \"w\")\n",
    "for element in dataset:\n",
    "    textfile.write(element + \"\\n\")\n",
    "textfile.close()\n"
   ]
  },
  {
   "cell_type": "code",
   "execution_count": 56,
   "id": "f4988dbf",
   "metadata": {},
   "outputs": [
    {
     "data": {
      "text/plain": [
       "{'created_at': 'Fri Aug 27 01:41:42 +0000 2021',\n",
       " 'id': 1431069377529630727,\n",
       " 'id_str': '1431069377529630727',\n",
       " 'text': \"On Sunday, August 29th at 11:30am I'm doing audience rapid readings at the Minnesota State Fair! Head to the #KSTP… https://t.co/KLOTuO5XAY\",\n",
       " 'truncated': True,\n",
       " 'entities': {'hashtags': [{'text': 'KSTP', 'indices': [109, 114]}],\n",
       "  'symbols': [],\n",
       "  'user_mentions': [],\n",
       "  'urls': [{'url': 'https://t.co/KLOTuO5XAY',\n",
       "    'expanded_url': 'https://twitter.com/i/web/status/1431069377529630727',\n",
       "    'display_url': 'twitter.com/i/web/status/1…',\n",
       "    'indices': [116, 139]}]},\n",
       " 'metadata': {'iso_language_code': 'en', 'result_type': 'recent'},\n",
       " 'source': '<a href=\"https://buffer.com\" rel=\"nofollow\">Buffer</a>',\n",
       " 'in_reply_to_status_id': None,\n",
       " 'in_reply_to_status_id_str': None,\n",
       " 'in_reply_to_user_id': None,\n",
       " 'in_reply_to_user_id_str': None,\n",
       " 'in_reply_to_screen_name': None,\n",
       " 'user': {'id': 35783416,\n",
       "  'id_str': '35783416',\n",
       "  'name': 'The Happy Medium®️ Jodi Livon',\n",
       "  'screen_name': 'JodiLivon',\n",
       "  'location': 'Mpls. MN',\n",
       "  'description': '#TheHappyMedium®, psychic medium on #ABCTV @twincities_live! Published author, owner of #TheIntuitiveCoach LLC., mom, wife, & animal lover.',\n",
       "  'url': 'https://t.co/GTIfavNhgg',\n",
       "  'entities': {'url': {'urls': [{'url': 'https://t.co/GTIfavNhgg',\n",
       "      'expanded_url': 'http://TheIntuitiveCoach.com',\n",
       "      'display_url': 'TheIntuitiveCoach.com',\n",
       "      'indices': [0, 23]}]},\n",
       "   'description': {'urls': []}},\n",
       "  'protected': False,\n",
       "  'followers_count': 10154,\n",
       "  'friends_count': 8947,\n",
       "  'listed_count': 189,\n",
       "  'created_at': 'Mon Apr 27 16:21:48 +0000 2009',\n",
       "  'favourites_count': 55349,\n",
       "  'utc_offset': None,\n",
       "  'time_zone': None,\n",
       "  'geo_enabled': True,\n",
       "  'verified': False,\n",
       "  'statuses_count': 52930,\n",
       "  'lang': None,\n",
       "  'contributors_enabled': False,\n",
       "  'is_translator': False,\n",
       "  'is_translation_enabled': False,\n",
       "  'profile_background_color': '642D8B',\n",
       "  'profile_background_image_url': 'http://abs.twimg.com/images/themes/theme10/bg.gif',\n",
       "  'profile_background_image_url_https': 'https://abs.twimg.com/images/themes/theme10/bg.gif',\n",
       "  'profile_background_tile': True,\n",
       "  'profile_image_url': 'http://pbs.twimg.com/profile_images/1044463559755911168/ekFfPfAa_normal.jpg',\n",
       "  'profile_image_url_https': 'https://pbs.twimg.com/profile_images/1044463559755911168/ekFfPfAa_normal.jpg',\n",
       "  'profile_banner_url': 'https://pbs.twimg.com/profile_banners/35783416/1613859844',\n",
       "  'profile_link_color': '9266CC',\n",
       "  'profile_sidebar_border_color': '65B0DA',\n",
       "  'profile_sidebar_fill_color': '7AC3EE',\n",
       "  'profile_text_color': '3D1957',\n",
       "  'profile_use_background_image': True,\n",
       "  'has_extended_profile': False,\n",
       "  'default_profile': False,\n",
       "  'default_profile_image': False,\n",
       "  'following': False,\n",
       "  'follow_request_sent': False,\n",
       "  'notifications': False,\n",
       "  'translator_type': 'none',\n",
       "  'withheld_in_countries': []},\n",
       " 'geo': None,\n",
       " 'coordinates': None,\n",
       " 'place': None,\n",
       " 'contributors': None,\n",
       " 'is_quote_status': False,\n",
       " 'retweet_count': 0,\n",
       " 'favorite_count': 0,\n",
       " 'favorited': False,\n",
       " 'retweeted': False,\n",
       " 'possibly_sensitive': False,\n",
       " 'lang': 'en'}"
      ]
     },
     "execution_count": 56,
     "metadata": {},
     "output_type": "execute_result"
    }
   ],
   "source": [
    "results[0]._json"
   ]
  },
  {
   "cell_type": "code",
   "execution_count": 49,
   "id": "adaefc94",
   "metadata": {},
   "outputs": [
    {
     "data": {
      "text/plain": [
       "100"
      ]
     },
     "execution_count": 49,
     "metadata": {},
     "output_type": "execute_result"
    }
   ],
   "source": [
    "len(results)"
   ]
  },
  {
   "cell_type": "code",
   "execution_count": null,
   "id": "29d6d78c",
   "metadata": {},
   "outputs": [],
   "source": []
  }
 ],
 "metadata": {
  "kernelspec": {
   "display_name": "Python Data",
   "language": "python",
   "name": "pythondata"
  },
  "language_info": {
   "codemirror_mode": {
    "name": "ipython",
    "version": 3
   },
   "file_extension": ".py",
   "mimetype": "text/x-python",
   "name": "python",
   "nbconvert_exporter": "python",
   "pygments_lexer": "ipython3",
   "version": "3.8.6"
  }
 },
 "nbformat": 4,
 "nbformat_minor": 5
}
