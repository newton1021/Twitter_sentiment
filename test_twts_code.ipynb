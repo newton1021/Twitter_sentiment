{
 "cells": [
  {
   "cell_type": "code",
   "execution_count": 1,
   "metadata": {},
   "outputs": [],
   "source": [
    "import tweepy\n",
    "import json"
   ]
  },
  {
   "cell_type": "code",
   "execution_count": 2,
   "metadata": {},
   "outputs": [],
   "source": [
    "API_Key = \"i3BgiDWeRDGgx1MieH5pfsQdI\"\n",
    "\n",
    "API_Secret = \"W3tQRuhqBhYCm2PSezofEb0N069DNOT2r36LZzdAOQW29FdWwy\""
   ]
  },
  {
   "cell_type": "code",
   "execution_count": 3,
   "metadata": {},
   "outputs": [],
   "source": [
    "auth = tweepy.OAuthHandler(API_Key, API_Secret)"
   ]
  },
  {
   "cell_type": "code",
   "execution_count": 7,
   "metadata": {},
   "outputs": [],
   "source": [
    "api = tweepy.API(auth)"
   ]
  },
  {
   "cell_type": "code",
   "execution_count": 15,
   "metadata": {},
   "outputs": [
    {
     "name": "stdout",
     "output_type": "stream",
     "text": [
      "Cat #5562 was purchased for 0.233 ETH \n",
      " https://t.co/VhmrxrzYWQ\n",
      "so i’m unable to evacuate because all my family lives in the con, my car won’t take me farther than an hour away or… https://t.co/lVQfVRXlLo\n",
      "Cat #8172 was purchased for 0.175 ETH \n",
      " https://t.co/iM2qXABejz\n",
      "i hate this lifetime i want to be reincarnated as a babushka cat\n",
      "RT @radsechrist: I just want to see a Jet Ski fight, is that too much to ask? https://t.co/6evHEK9d5R\n",
      "@SumienLab SweetPea (my grand-Ȼẖɨḻḏ/-cat) says \"peek-a-boo!\" https://t.co/Sx9wrgqQr7\n",
      "I couldn't help thinking that the Manor House next door was trolling the church by brazenly hoisting a witch on a b… https://t.co/sKZWvqEaCG\n",
      "RT @DameSpunky: Neighbor: Have you seen my cat? Is it in your plants?\n",
      "\n",
      "Me: *thinking about how long I waited with a leaky gun for the kill…\n",
      "RT @JoVLande: Cat: If you can't hide the crime scene, pretend you're the victim. https://t.co/5xqWsqTWeO\n",
      "RT @Pattern_cat_: Pattern cat #029_Optical Illusion\n",
      "Cat wearing a pattern. 😸😵‍💫\n",
      "\n",
      "https://t.co/UZijSnh50O\n",
      "@hicetnunc2000\n",
      "@onhicetnunc\n",
      "\n",
      "#NFT…\n",
      "@casamato21 It'll be fine. My mother will pull through and my cat will be ok. He only started sneezing or trying to… https://t.co/d5R3BKTj38\n",
      "RT @dostalova_j: Noble spectators,\n",
      "you are about to hear four humors:\n",
      "a dog, a cat, a cuckoo and an owl\n",
      "as a joke make counterpoints upon a…\n",
      "Im not afraid to admit im a scardy cat 🤷🏻‍♀️\n",
      "@NFTHOTNOW Look how cute this knight mummy cat is!😲\n",
      "\n",
      "https://t.co/sMxYQu6LtQ\n",
      "\n",
      "#NFT #OpenseaNFT #NFTcollectible #24px #NFTCommunity\n",
      "RT @swarup58: There is a silver lining in the impending loss in the 3rd Test at Leeds. Pujara &amp; Kohli found form.Rahane &amp; Ishant have serve…\n",
      "RT @nellcherbee: Saw some cat glasses and of course Hanekoma needed a pair🐈‍⬛\n",
      "#TWEWY https://t.co/m4nYg45cGb\n",
      "@cutemp4 I love how the cat was confused for a sec. Then realized that was fun and did it again.\n",
      "@imasurvivor66 We used to have a cat like that 😂😂\n",
      "RT @GeneralCattis: #IfCandymanShowsUp he’ll have to wait until I finish fighting this cat in the mirror… https://t.co/oDPwWzu7ch\n",
      "RT @MissingPetsGB: Please can we help #REUNITE this pair?\n",
      "\n",
      "LUNA is a support cat to Diane who is poorly with cancer. Last seen 29/5 #hythe…\n",
      "RT @newsmax: I would have thought that following the catastrophe of Benghazi, that the United States government would take military feedbac…\n",
      "RT @ArtgifB: New drop “ Sphynx Gangster ” 🐈 🕶️😎 \n",
      "\n",
      "0.005 -  0.008 ETH\n",
      "\n",
      "👉 https://t.co/pS3lEr9aUb\n",
      "\n",
      "#Sphynx  #ETH  #NFTThaicommunity  #cryptoa…\n",
      "@DrSzky Awhhh...you a scardey cat?\n",
      "\"Square Guy:It's talking, so that makes it a cat.\" \"Cat girl: Now i get it!\" \"Happy: THAT MAKES ABSOLUTELY NO SENSE… https://t.co/PnCkKS4efL\n",
      "@ShadyLadyNFT Look how cute this knight mummy cat is!😲\n",
      "\n",
      "https://t.co/sMxYQu6LtQ\n",
      "\n",
      "#NFT #OpenseaNFT #NFTcollectible #24px #NFTCommunity\n",
      "When you see a cat, slowly blink at it. If it blinks back, the cat is content with you.\n",
      "just 4 days left to preorder my fall/halloween bookmarks before they are officially added to my shop and increase i… https://t.co/Y4bd4pagEs\n",
      "@Crazy_Cat_Man_ When are you nice 🤨\n",
      "should i buy a cat\n",
      "you were named after two of the bravest men i ever knew, little grey cat perfectly good monkey Potter\n",
      "RT @wyarchive: seonghwa giving wooyoung little cat ears🥺 https://t.co/r2Op90EaeC\n",
      "Ready or not. Ida is expected to be a Cat 4. https://t.co/wpvbCmE7Mp\n",
      "@fwshiguros DAZAI WITH A CAT https://t.co/LIrPo6DdER\n",
      "RT @shahalam13: One day the dead dog and the dead cat lay next to each other. Their enmity, all dust.\n",
      "RT @SEIRO_ART: i really like this cat https://t.co/xGGKMEg3PP\n",
      "RT @DefencelessAlex: Liam Payne on the mv of #Sunshine as my Cat a short but necesary thread for me\n",
      "Cat Wax Saturday 💜 https://t.co/YhY5u0s1Rl\n",
      "RT @Angry_Staffer: I’m sure this was a tough decision, but this could be an absolute nightmare scenario if Ida hits as a cat 4 like they’re…\n",
      "RT @world4ranboo: boomerna but they're a cat.\n",
      "\n",
      "&gt;rts are very appreciated !! :D\n",
      "\n",
      "[ #BoomerNAfanart #boomerfanart ] https://t.co/8uY3XrFPV1\n",
      "RT @onlydoja: baby doja cat https://t.co/PZIbOQTOyJ\n",
      "RT @CrabbyAshley: @ellle_em My sister’s cat sleeps next to her while she works from home. She (a lawyer) calls the cat her purralegal. http…\n",
      "RT @cherrizard: 🚨TeePublic is having a flash sale today WOWOW🚨\n",
      "\n",
      "I haven’t uploaded anything to my store recently, but today’s deal is good…\n",
      "@berlamundi @LucozadeGhana A cat\n",
      "RT @draakzion1: 🔥Cat Fest Baby Generation🔥\n",
      "Now 3️⃣5️⃣/1️⃣0️⃣0️⃣++ Baby Cats\n",
      "Only 0.007 ETH🤫\n",
      "Hold more cats get FREE cat🎉\n",
      "https://t.co/2gTjr…\n",
      "@FIESTYSISTER72 @StarannThe @DerekGuberney @jziggs228 @dejafuuled @immersed_in_luv @sarahbeth0404 @Eric_shovelhead… https://t.co/AQcFHVxOKU\n",
      "Threshire Cat, Face Lift - You Know (Original Mix)\n",
      "RT @Zeus_The_Slayer: 😺❣️ Good morning my darlings! 😺🐾 Happy #caturday! 🎊\n",
      "❣️\n",
      "Look what I discovered! 🎉🎊 A cat brush with catnip!  🎊😻 What a…\n",
      "Some fat, hairy monsters invaded Buckingham Palace and scared the hell out of an ugly street cat\n",
      "RT @MissingPetsGB: Still #missing PETERBOROUGH \n",
      "#UK \n",
      "Oliver is an older cat with reduced hearing. Please look out for him in the area and s…\n",
      "RT @JoVLande: Cat: If you can't hide the crime scene, pretend you're the victim. https://t.co/5xqWsqTWeO\n",
      "The sad cat has returned https://t.co/ehH0OUF0l5\n",
      "looking for clothes to wear tmr and can i just say i regret letting my cat into my cupboard bc fur is so obvious on black stuff\n"
     ]
    }
   ],
   "source": [
    "results = api.search(\"cat\",count = 100)\n",
    "#test_twt = []\n",
    "for r in results:\n",
    "    retweet = r._json[\"retweeted\"]\n",
    "    if retweet == False and r._json[\"lang\"] == \"en\":\n",
    "        try:\n",
    "            print(f\"{r._json['extended_tweet']['full_text']}\")\n",
    "            tweet = r._json['extended_tweet']['full_text']\n",
    "        except:\n",
    "            print(f\"{r._json['text']}\")\n",
    "            tweet = r._json['text']\n",
    "        test_twt.append(tweet)\n",
    "        "
   ]
  },
  {
   "cell_type": "code",
   "execution_count": 23,
   "metadata": {},
   "outputs": [],
   "source": [
    "filename = \"twts-test.txt\"\n",
    "textfile = open(filename, \"w\")\n",
    "for element in test_twt:\n",
    "    try:\n",
    "        textfile.write(element + \"\\n\")\n",
    "    except:\n",
    "        textfile.write(\" \")\n",
    "textfile.close()"
   ]
  },
  {
   "cell_type": "code",
   "execution_count": 21,
   "metadata": {},
   "outputs": [],
   "source": []
  },
  {
   "cell_type": "code",
   "execution_count": null,
   "metadata": {},
   "outputs": [],
   "source": []
  }
 ],
 "metadata": {
  "kernelspec": {
   "display_name": "Python 3",
   "language": "python",
   "name": "python3"
  },
  "language_info": {
   "codemirror_mode": {
    "name": "ipython",
    "version": 3
   },
   "file_extension": ".py",
   "mimetype": "text/x-python",
   "name": "python",
   "nbconvert_exporter": "python",
   "pygments_lexer": "ipython3",
   "version": "3.8.5"
  }
 },
 "nbformat": 4,
 "nbformat_minor": 4
}
